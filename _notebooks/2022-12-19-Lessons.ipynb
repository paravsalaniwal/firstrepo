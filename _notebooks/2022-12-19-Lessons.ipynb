{
 "cells": [
  {
   "cell_type": "markdown",
   "metadata": {},
   "source": [
    "# \"Lessons\"\n",
    "\n",
    "- toc: true\n",
    "- comments: true\n",
    "- layout: page\n",
    "- author: Parav Salaniwal"
   ]
  },
  {
   "cell_type": "markdown",
   "metadata": {},
   "source": [
    "\n",
    "# Lessons Grade Table\n",
    "| Lesson | Grade |\n",
    "|---|---|\n",
    "| [Lesson 1 and 2](https://paravsalaniwal.github.io/firstrepo/2022/11/29/LessonHacks.html#Lessons-1-and-2) | 0.80 |\n",
    "| [Lesson 3 and 4](https://paravsalaniwal.github.io/firstrepo/2022/11/29/LessonHacks.html#Lessons-3-and-4) | 0.90 |\n",
    "| [Lesson 5-7](https://paravsalaniwal.github.io/firstrepo/2022/11/29/LessonHacks.html#Lessons-5,-6,-and-7) | 1.00 |\n",
    "| [Lesson 8 and 10](https://paravsalaniwal.github.io/firstrepo/2022/11/29/LessonHacks.html#Lessons-8-and-10) | 0.85 |\n",
    "| [Lesson 9 and 11](https://paravsalaniwal.github.io/firstrepo/2022/11/29/LessonHacks.html#Lessons-9-and-11) | 0.92 |\n",
    "| [Lesson 12 and 13](https://paravsalaniwal.github.io/firstrepo/2022/11/29/LessonHacks.html#Lessons-12-and-13) | 0.95 |\n",
    "| [Lesson 14 and 15](https://paravsalaniwal.github.io/firstrepo/2022/11/29/LessonHacks.html#Lessons-14-and-15) | 0.90 |\n",
    "| [Lesson 16](https://paravsalaniwal.github.io/firstrepo/2022/11/29/LessonHacks.html#Lesson-16) | 0.90 |\n",
    "| [Lesson 17 and 18](https://paravsalaniwal.github.io/firstrepo/2022/11/29/LessonHacks.html#Lessons-17-and-18) | 0.95 |\n",
    "\n",
    "All lessons notes and hacks can be found [here](https://paravsalaniwal.github.io/firstrepo/2022/11/29/LessonHacks.html)\n",
    "\n",
    "# Vocabulary:\n",
    "\n",
    "**Basic Vocab**\n",
    "\n",
    "| **Term** | **Definition** |\n",
    "|-|-|\n",
    "| Github | web-based version-control and collaboration platform for software developers |\n",
    "| Jupyter Notebook | the original web application for creating and sharing computational documents |\n",
    "| VSCode | a streamlined code editor with support for development operations like debugging, task running, and version control |\n",
    "| Python | a high-level general-purpose programming language |\n",
    "| Markdown | a lightweight markup language that you can use to add formatting elements to plaintext text documents |\n",
    "| Shell Script | text file that contains a sequence of commands for a UNIX-based operating system |\n",
    "| Code |  or a system of rules written in a particular programming language |\n",
    "| Input | data that is entered into or received by a computer |\n",
    "| Output | data that the computer sends |\n",
    "| Repository | a central place in which an aggregation of data is kept and maintained |\n",
    "| Commit | the making of a set of tentative changes permanent |\n",
    "| Push | the delivery of information on the Web that is initiated by the information server |\n",
    "| Pull | to request data from another program or computer |\n",
    "| Bash | a command line interpreter that typically runs in a text window where user can interpret commands to carry out various actions |\n",
    "\n",
    "\n",
    "**Unit 2 Vocab**\n",
    "\n",
    "| **Term** | **Definition** |\n",
    "|-|-|\n",
    "| Bits | the smallest unit of data that a computer can process and store |\n",
    "| Bytes | a unit of data that is eight binary digits long |\n",
    "| Hexadecimal | a numbering system with base 16 |\n",
    "| Unassigned Integer | just like integers (whole numbers) but have the property that they don't have a + or - sign associated with them |\n",
    "| Signed integer | a 32-bit datum that encodes an integer in the range [-2147483648 to 2147483647] |\n",
    "| Floating Point | a positive or negative whole number with a decimal point |\n",
    "| Boolean | a logical data type that can have only the values true or false |\n",
    "| ASCII | the most common character encoding format for text data in computers and on the internet |\n",
    "| Unicode | a modern standard for text representation that defines each of the letters and symbols commonly used in today's digital and print media |\n",
    "| RGB | a system for representing the colors to be used on a computer display |\n",
    "| Lossy | a data encoding and compression technique that deliberately discards some data in the compression process |\n",
    "| Lossless | restores and rebuilds file data in its original form after the file is decompressed |\n",
    "\n",
    "\n",
    "**Unit 3 Vocab**\n",
    "\n",
    "| **Term** | **Definition** |\n",
    "|-|-|\n",
    "| Variable | a value that can change, depending on conditions or on information passed to the program |\n",
    "| Data Types | a classification that specifies which type of value a variable has and what type of mathematical, relational or logical operations can be applied to it without causing an error |\n",
    "| Assignment operators | a statement in computer programming that is used to set a value to a variable nam |\n",
    "| Lists | an abstract data type that represents a finite number of ordered values, where the same value may occur more than once |\n",
    "| 2D List | a collection of data cells, all of the same type, which can be given a single name |\n",
    "| Dictionary | a branch of science that deals with the theory of computation or the design of computers |\n",
    "| Class | a template definition of the method s and variable s in a particular kind of object |\n",
    "| Algorithms | a procedure used for solving a problem or performing a computation |\n",
    "| Sequence | A set of logical steps carried out in order |\n",
    "| Selection | a programming construct where a section of code is run only if a condition is met |\n",
    "| Iteration | a process where the design of a product or application is improved by repeated review and testing |\n",
    "| Expression | a syntactic entity in a programming language that may be evaluated to determine its value |"
   ]
  },
  {
   "cell_type": "markdown",
   "metadata": {},
   "source": [
    "**Example 1**"
   ]
  },
  {
   "cell_type": "code",
   "execution_count": 1,
   "metadata": {},
   "outputs": [
    {
     "name": "stdout",
     "output_type": "stream",
     "text": [
      "10111\n"
     ]
    }
   ],
   "source": [
    "def decimal_to_binary(decimal):\n",
    "  binary = \"\"\n",
    "  while decimal > 0:\n",
    "    binary = str(decimal % 2) + binary\n",
    "    decimal = decimal // 2\n",
    "  return binary\n",
    "decimal_number = 23\n",
    "binary_string = decimal_to_binary(decimal_number)\n",
    "print(binary_string)\n"
   ]
  }
 ],
 "metadata": {
  "kernelspec": {
   "display_name": "Python 3.10.8 64-bit",
   "language": "python",
   "name": "python3"
  },
  "language_info": {
   "codemirror_mode": {
    "name": "ipython",
    "version": 3
   },
   "file_extension": ".py",
   "mimetype": "text/x-python",
   "name": "python",
   "nbconvert_exporter": "python",
   "pygments_lexer": "ipython3",
   "version": "3.10.8"
  },
  "orig_nbformat": 4,
  "vscode": {
   "interpreter": {
    "hash": "b0fa6594d8f4cbf19f97940f81e996739fb7646882a419484c72d19e05852a7e"
   }
  }
 },
 "nbformat": 4,
 "nbformat_minor": 2
}
