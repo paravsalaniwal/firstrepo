{
 "cells": [
  {
   "cell_type": "markdown",
   "metadata": {},
   "source": [
    "# Lists, Dictionaries, Iteration\n",
    "> An introduction to Data Abstraction using Python Lists [] and Python Dictionaries {}.\n",
    "\n",
    "- title: Lists, Dictionaries, Iteration\n",
    "- toc: true\n",
    "- categories: [units]\n",
    "- permalink: /collegeboard/python_lists\n",
    "- image: /images/python_lists.png\n",
    "- categories: [collegeboard]\n",
    "- tags: [python]"
   ]
  },
  {
   "cell_type": "markdown",
   "metadata": {},
   "source": [
    "#### List and Dictionary purpose\n",
    "Our society is being built on information. List and Dictionaries are used to collect information. Mostly, when information is collected it is formed into patterns. As that pattern is established you will be able collect many instances of that pattern.\n",
    "\n",
    "List is used to collect many instances of a pattern\n",
    "Dictionary is used to define data patterns.\n",
    "Iteration is often used to process through lists.\n",
    "To start exploring more deeply into List, Dictionary and Iteration this example will explore constructing a List of people and cars.\n",
    "\n",
    "As we learned above, a List is a data type: class 'list'\n",
    "A 'list' data type has the method '.append(expression)' that allows you to add to the list. A class usually has extra method to support working with its objects/instances.\n",
    "In the example below, the expression is appended to the 'list' is the data type: class 'dict'\n",
    "At the end, you see a fairly complicated data structure. This is a list of dictionaries, or a collection of many similar data patterns. The output looks similar to JavaScript Object Notation (JSON), Jekyll/GitHub pages yml files, FastPages Front Matter. As discussed we will see this key/value patter often, you will be required to understand this data structure and understand the parts. Just believe it is peasy ;) and it will become so."
   ]
  },
  {
   "cell_type": "code",
   "execution_count": 15,
   "metadata": {},
   "outputs": [
    {
     "name": "stdout",
     "output_type": "stream",
     "text": [
      "[{'FirstName': 'Deebo', 'LastName': 'Samuel', 'Position': 'Wide Reciever', 'NFL Draft Pick': 'Second Round Pick 36', 'NFL Top 100 Rank': '19', 'Total Yards': '1770', 'Total TDs': '14', 'Teams': ['San Francisco 49ers']}, {'FirstName': 'Matthew', 'LastName': 'Stafford', 'Position': 'Quarterback', 'NFL Draft Pick': 'First Round Pick 1', 'NFL Top 100 Rank': '27', 'Total Yards': '4886', 'Total TDs': '41', 'Teams': ['Detroit Lions', 'Los Angeles Rams']}]\n"
     ]
    }
   ],
   "source": [
    "#Information on Deebo Samuel and Matthew Stafford\n",
    "InfoDb = []\n",
    "\n",
    "#Append to player profile of Deebo Samuel in the 2021 NFL Season\n",
    "InfoDb.append({\n",
    "    \"FirstName\": \"Deebo\",\n",
    "    \"LastName\": \"Samuel\",\n",
    "    \"Position\": \"Wide Reciever\",\n",
    "    \"NFL Draft Pick\": \"Second Round Pick 36\",\n",
    "    \"NFL Top 100 Rank\": \"19\",\n",
    "    \"Total Yards\": \"1770\",\n",
    "    \"Total TDs\": \"14\",\n",
    "    \"Teams\": [\"San Francisco 49ers\"]\n",
    "})\n",
    "\n",
    "#Append to player profile of Matthew Stafford in the 2021 NFL Season\n",
    "InfoDb.append({\n",
    "    \"FirstName\": \"Matthew\",\n",
    "    \"LastName\": \"Stafford\",\n",
    "    \"Position\": \"Quarterback\",\n",
    "    \"NFL Draft Pick\": \"First Round Pick 1\",\n",
    "    \"NFL Top 100 Rank\": \"27\",\n",
    "    \"Total Yards\": \"4886\",\n",
    "    \"Total TDs\": \"41\",\n",
    "    \"Teams\": [\"Detroit Lions\", \"Los Angeles Rams\"]\n",
    "})\n",
    "\n",
    "# Prints the data structure\n",
    "print(InfoDb)"
   ]
  },
  {
   "cell_type": "markdown",
   "metadata": {},
   "source": [
    "### Formatted output of List/Dictionary - for loop\n",
    "Managing data in Lists and Dictionaries is for the convenience of passing the data across the internet or preparing it to be stored into a database.  Also, it is a great way to exchange data inside of our own programs.\n",
    "\n",
    "Next, we will take the stored data and output it within our notebook.  There are multiple steps to this process...\n",
    "- <mark>Preparing a function to format the data</mark>, the print_data() function receives a parameter called \"d_rec\" short for dictionary record.  It then references different keys within [] square brackets.   \n",
    "- <mark>Preparing a function to iterate through the list</mark>, the for_loop() function uses an enhanced for loop that pull record by record out of InfoDb until the list is empty.  Each time through the loop it call print_data(record), which passes the dictionary record to that function.\n",
    "- Finally, you need to <mark>activate your function</mark> with the call to the defined function for_loop().  Functions are defined, not activated until they are called.  By placing for_loop() at the left margin the function is activated."
   ]
  },
  {
   "cell_type": "code",
   "execution_count": 16,
   "metadata": {},
   "outputs": [
    {
     "name": "stdout",
     "output_type": "stream",
     "text": [
      "For loop output\n",
      "\n",
      "Deebo Samuel\n",
      "\t Position: Wide Reciever\n",
      "\t NFL Draft Pick: Second Round Pick 36\n",
      "\t NFL Top 100 Rank: 19\n",
      "\t Total Yards: 1770\n",
      "\t Total TDs: 14\n",
      "\t Teams: San Francisco 49ers\n",
      "\n",
      "Matthew Stafford\n",
      "\t Position: Quarterback\n",
      "\t NFL Draft Pick: First Round Pick 1\n",
      "\t NFL Top 100 Rank: 27\n",
      "\t Total Yards: 4886\n",
      "\t Total TDs: 41\n",
      "\t Teams: Detroit Lions, Los Angeles Rams\n",
      "\n"
     ]
    }
   ],
   "source": [
    "#Printing the databases for Deebo Samuel and Matthew Stafford\n",
    "def print_data(d_rec):\n",
    "    print(d_rec[\"FirstName\"], d_rec[\"LastName\"])\n",
    "    print(\"\\t\", \"Position:\", d_rec[\"Position\"])\n",
    "    print(\"\\t\", \"NFL Draft Pick:\", d_rec[\"NFL Draft Pick\"])\n",
    "    print(\"\\t\", \"NFL Top 100 Rank:\", d_rec[\"NFL Top 100 Rank\"])\n",
    "    print(\"\\t\", \"Total Yards:\", d_rec[\"Total Yards\"])\n",
    "    print(\"\\t\", \"Total TDs:\", d_rec[\"Total TDs\"])\n",
    "    print(\"\\t\", \"Teams: \", end=\"\")\n",
    "    print(\", \".join(d_rec[\"Teams\"]))\n",
    "    print()\n",
    "\n",
    "def for_loop():\n",
    "    print(\"For loop output\\n\")\n",
    "    for record in InfoDb:\n",
    "        print_data(record)\n",
    "\n",
    "for_loop()"
   ]
  },
  {
   "cell_type": "markdown",
   "metadata": {},
   "source": [
    "### Alternate methods for iteration - while loop\n",
    "In coding, there are usually many ways to achieve the same result.  Defined are functions illustrating using index to reference records in a list, these methods are called a \"while\" loop and \"recursion\".\n",
    "- The while_loop() function contains a while loop, \"while i < len(InfoDb):\".  This counts through the elements in the list start at zero, and passes the record to print_data()"
   ]
  },
  {
   "cell_type": "code",
   "execution_count": 17,
   "metadata": {},
   "outputs": [
    {
     "name": "stdout",
     "output_type": "stream",
     "text": [
      "While loop output\n",
      "\n",
      "Deebo Samuel\n",
      "\t Position: Wide Reciever\n",
      "\t NFL Draft Pick: Second Round Pick 36\n",
      "\t NFL Top 100 Rank: 19\n",
      "\t Total Yards: 1770\n",
      "\t Total TDs: 14\n",
      "\t Teams: San Francisco 49ers\n",
      "\n",
      "Matthew Stafford\n",
      "\t Position: Quarterback\n",
      "\t NFL Draft Pick: First Round Pick 1\n",
      "\t NFL Top 100 Rank: 27\n",
      "\t Total Yards: 4886\n",
      "\t Total TDs: 41\n",
      "\t Teams: Detroit Lions, Los Angeles Rams\n",
      "\n"
     ]
    }
   ],
   "source": [
    "# while loop contains an initial n and an index incrementing statement (n += 1)\n",
    "def while_loop():\n",
    "    print(\"While loop output\\n\")\n",
    "    i = 0\n",
    "    while i < len(InfoDb):\n",
    "        record = InfoDb[i]\n",
    "        print_data(record)\n",
    "        i += 1\n",
    "    return\n",
    "\n",
    "while_loop()"
   ]
  },
  {
   "cell_type": "markdown",
   "metadata": {},
   "source": [
    "### Calling a function repeatedly - recursion\n",
    "This final technique achieves looping by calling itself repeatedly.\n",
    "- recursive_loop(i) function is primed with the value 0 on its activation with \"recursive_loop(0)\"\n",
    "- the last statement indented inside the if statement \"recursive_loop(i + 1)\" activates another call to the recursive_loop(i) function, each time i is increasing\n",
    "- ultimately the \"if i < len(InfoDb):\" will evaluate to false and the program ends"
   ]
  },
  {
   "cell_type": "code",
   "execution_count": 18,
   "metadata": {},
   "outputs": [
    {
     "name": "stdout",
     "output_type": "stream",
     "text": [
      "Recursive loop output\n",
      "\n",
      "Deebo Samuel\n",
      "\t Position: Wide Reciever\n",
      "\t NFL Draft Pick: Second Round Pick 36\n",
      "\t NFL Top 100 Rank: 19\n",
      "\t Total Yards: 1770\n",
      "\t Total TDs: 14\n",
      "\t Teams: San Francisco 49ers\n",
      "\n",
      "Matthew Stafford\n",
      "\t Position: Quarterback\n",
      "\t NFL Draft Pick: First Round Pick 1\n",
      "\t NFL Top 100 Rank: 27\n",
      "\t Total Yards: 4886\n",
      "\t Total TDs: 41\n",
      "\t Teams: Detroit Lions, Los Angeles Rams\n",
      "\n"
     ]
    }
   ],
   "source": [
    "# recursion simulates loop incrementing on each call (n + 1) until exit condition is met\n",
    "def recursive_loop(i):\n",
    "    if i < len(InfoDb):\n",
    "        record = InfoDb[i]\n",
    "        print_data(record)\n",
    "        recursive_loop(i + 1)\n",
    "    return\n",
    "    \n",
    "print(\"Recursive loop output\\n\")\n",
    "recursive_loop(0)"
   ]
  }
 ],
 "metadata": {
  "kernelspec": {
   "display_name": "Python 3.8.9 64-bit",
   "language": "python",
   "name": "python3"
  },
  "language_info": {
   "codemirror_mode": {
    "name": "ipython",
    "version": 3
   },
   "file_extension": ".py",
   "mimetype": "text/x-python",
   "name": "python",
   "nbconvert_exporter": "python",
   "pygments_lexer": "ipython3",
   "version": "3.8.9"
  },
  "orig_nbformat": 4,
  "vscode": {
   "interpreter": {
    "hash": "31f2aee4e71d21fbe5cf8b01ff0e069b9275f58929596ceb00d14d90e3e16cd6"
   }
  }
 },
 "nbformat": 4,
 "nbformat_minor": 2
}
