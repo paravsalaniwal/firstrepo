{
 "cells": [
  {
   "cell_type": "markdown",
   "metadata": {},
   "source": [
    "# Lists, Dictionaries, Iteration\n",
    "> An introduction to Data Abstraction using Python Lists [] and Python Dictionaries {}.\n",
    "\n",
    "- title: Lists, Dictionaries, Iteration\n",
    "- toc: true\n",
    "- categories: [units]\n",
    "- permalink: /collegeboard/python_lists\n",
    "- image: /images/python_lists.png\n",
    "- categories: [collegeboard]\n",
    "- tags: [python]"
   ]
  },
  {
   "cell_type": "code",
   "execution_count": null,
   "metadata": {},
   "outputs": [],
   "source": [
    "#Information on Deebo Samuel and Matthew Stafford\n",
    "\n",
    "#Append to player profile of Deebo Samuel in the 2021 NFL Season\n",
    "InfoDb = []\n",
    "InfoDb.append({\n",
    "    \"FirstName\": \"Deebo\",\n",
    "    \"LastName\": \"Samuel\",\n",
    "    \"Position\": \"Wide Reciever\",\n",
    "    \"NFL Draft Pick\": \"Second Round Pick 36\",\n",
    "    \"NFL Top 100 Rank\": \"19\",\n",
    "    \"Total Yards\": \"1770\",\n",
    "    \"Total TDs\": \"14\"\n",
    "    \"Teams\": [\"San Francisco 49ers\"]\n",
    "})\n",
    "#Append to player profile of Matthew Stafford in the 2021 NFL Season\n",
    "InfoDb.append({\n",
    "    \"FirstName\": \"Matthew\",\n",
    "    \"LastName\": \"Stafford\",\n",
    "    \"Position\": \"Quarterback\",\n",
    "    \"NFL Draft Pick\": \"######\",\n",
    "    \"NFL Top 100 Rank\": \"##\",\n",
    "    \"Total Yards\": \"####\",\n",
    "    \"Total TDs\": \"##\"\n",
    "    \"Teams\": [\"Detroit Lions\", \"Los Angeles Rams\"]\n",
    "})"
   ]
  },
  {
   "cell_type": "markdown",
   "metadata": {},
   "source": [
    "### Formatted output of List/Dictionary - for loop\n",
    "Managing data in Lists and Dictionaries is for the convenience of passing the data across the internet or preparing it to be stored into a database.  Also, it is a great way to exchange data inside of our own programs.\n",
    "\n",
    "Next, we will take the stored data and output it within our notebook.  There are multiple steps to this process...\n",
    "- <mark>Preparing a function to format the data</mark>, the print_data() function receives a parameter called \"d_rec\" short for dictionary record.  It then references different keys within [] square brackets.   \n",
    "- <mark>Preparing a function to iterate through the list</mark>, the for_loop() function uses an enhanced for loop that pull record by record out of InfoDb until the list is empty.  Each time through the loop it call print_data(record), which passes the dictionary record to that function.\n",
    "- Finally, you need to <mark>activate your function</mark> with the call to the defined function for_loop().  Functions are defined, not activated until they are called.  By placing for_loop() at the left margin the function is activated."
   ]
  },
  {
   "cell_type": "code",
   "execution_count": null,
   "metadata": {},
   "outputs": [],
   "source": [
    "#Printing the databases for Deebo Samuel and Matthew Stafford\n",
    "def print_data(d_rec):\n",
    "    print(d_rec[\"FirstName\"], d_rec[\"LastName\"])\n",
    "    print(\"\\t\", \"Position:\", d_rec[\"Position\"])\n",
    "    print(\"\\t\", \"NFL Draft Pick:\", d_rec[\"NFL Draft Pick\"])\n",
    "    print(\"\\t\", \"NFL Top 100 Rank:\", d_rec[\"NFL Top 100 Rank\"])\n",
    "    print(\"\\t\", \"Total Yards:\", d_rec[\"Total Yards\"])\n",
    "    print(\"\\t\", \"Total TDs:\", d_rec[\"Total TDs\"])\n",
    "    print(\"\\t\", \"Teams: \", end=\"\")\n",
    "    print(\", \".join(d_rec[\"Teams\"]))\n",
    "    print()\n",
    "\n",
    "def for_loop():\n",
    "    print(\"For loop output\\n\")\n",
    "    for record in InfoDb:\n",
    "        print_data(record)\n",
    "\n",
    "for_loop()"
   ]
  },
  {
   "cell_type": "markdown",
   "metadata": {},
   "source": [
    "### Alternate methods for iteration - while loop\n",
    "In coding, there are usually many ways to achieve the same result.  Defined are functions illustrating using index to reference records in a list, these methods are called a \"while\" loop and \"recursion\".\n",
    "- The while_loop() function contains a while loop, \"while i < len(InfoDb):\".  This counts through the elements in the list start at zero, and passes the record to print_data()"
   ]
  },
  {
   "cell_type": "code",
   "execution_count": null,
   "metadata": {},
   "outputs": [],
   "source": [
    "# while loop contains an initial n and an index incrementing statement (n += 1)\n",
    "def while_loop():\n",
    "    print(\"While loop output\\n\")\n",
    "    i = 0\n",
    "    while i < len(InfoDb):\n",
    "        record = InfoDb[i]\n",
    "        print_data(record)\n",
    "        i += 1\n",
    "    return\n",
    "\n",
    "while_loop()"
   ]
  },
  {
   "cell_type": "markdown",
   "metadata": {},
   "source": [
    "### Calling a function repeatedly - recursion\n",
    "This final technique achieves looping by calling itself repeatedly.\n",
    "- recursive_loop(i) function is primed with the value 0 on its activation with \"recursive_loop(0)\"\n",
    "- the last statement indented inside the if statement \"recursive_loop(i + 1)\" activates another call to the recursive_loop(i) function, each time i is increasing\n",
    "- ultimately the \"if i < len(InfoDb):\" will evaluate to false and the program ends"
   ]
  },
  {
   "cell_type": "code",
   "execution_count": null,
   "metadata": {},
   "outputs": [],
   "source": [
    "# recursion simulates loop incrementing on each call (n + 1) until exit condition is met\n",
    "def recursive_loop(i):\n",
    "    if i < len(InfoDb):\n",
    "        record = InfoDb[i]\n",
    "        print_data(record)\n",
    "        recursive_loop(i + 1)\n",
    "    return\n",
    "    \n",
    "print(\"Recursive loop output\\n\")\n",
    "recursive_loop(0)"
   ]
  },
  {
   "cell_type": "markdown",
   "metadata": {},
   "source": [
    "## Hacks\n",
    "- Add a couple of records to the InfoDb\n",
    "- Try to do a for loop with an index\n",
    "- Pair Share code somethings creative or unique, with loops and data. Hints...\n",
    "    - Would it be possible to output data in a reverse order?\n",
    "    - Are there other methods that can be performed on lists?\n",
    "    - Could you create new or add to dictionary data set?  Could you do it with input?\n",
    "    - Make a quiz that stores in a List of Dictionaries."
   ]
  }
 ],
 "metadata": {
  "kernelspec": {
   "display_name": "Python 3.8.9 64-bit",
   "language": "python",
   "name": "python3"
  },
  "language_info": {
   "codemirror_mode": {
    "name": "ipython",
    "version": 3
   },
   "file_extension": ".py",
   "mimetype": "text/x-python",
   "name": "python",
   "nbconvert_exporter": "python",
   "pygments_lexer": "ipython3",
   "version": "3.8.9"
  },
  "orig_nbformat": 4,
  "vscode": {
   "interpreter": {
    "hash": "31f2aee4e71d21fbe5cf8b01ff0e069b9275f58929596ceb00d14d90e3e16cd6"
   }
  }
 },
 "nbformat": 4,
 "nbformat_minor": 2
}
