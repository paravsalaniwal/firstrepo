{
 "cells": [
  {
   "cell_type": "markdown",
   "metadata": {},
   "source": [
    "# Bash Checks "
   ]
  },
  {
   "cell_type": "code",
   "execution_count": 38,
   "metadata": {
    "vscode": {
     "languageId": "shellscript"
    }
   },
   "outputs": [
    {
     "name": "stdout",
     "output_type": "stream",
     "text": [
      "Using conditional statement to create a project directory and project\n",
      "Directory /Users/parav/vscode exists.\n",
      "Directory /Users/parav/vscode/firstrepo exists.\n"
     ]
    }
   ],
   "source": [
    "echo \"Using conditional statement to create a project directory and project\"\n",
    "\n",
    "# Variable section\n",
    "export project_dir=$HOME/vscode  # change vscode to different name to test git clone\n",
    "export project=$project_dir/firstrepo  # change APCSP to name of project from git clone\n",
    "export project_repo=\"https://github.com/paravsalaniwal/firstrepo.git\"  # change to project of choice\n",
    "\n",
    "cd ~    # start in home directory\n",
    "\n",
    "# Conditional block to make a project directory\n",
    "if [ ! -d $project_dir ]\n",
    "then \n",
    "    echo \"Directory $project_dir does not exists... makinng directory $project_dir\"\n",
    "    mkdir -p $project_dir\n",
    "fi\n",
    "echo \"Directory $project_dir exists.\" \n",
    "\n",
    "# Conditional block to git clone a project from project_repo\n",
    "if [ ! -d $project ]\n",
    "then\n",
    "    echo \"Directory $project does not exists... cloning $project_repo\"\n",
    "    cd $project_dir\n",
    "    git clone $project_repo\n",
    "    cd ~\n",
    "fi\n",
    "echo \"Directory $project exists.\""
   ]
  },
  {
   "cell_type": "markdown",
   "metadata": {},
   "source": [
    "Look inside Fastpages/Github page project\n",
    "\n",
    "> All computers contain files and directories. The clone brought more files from cloud to your machine. Using the bash shell you will see some commands that show and interact with files and directories.\n",
    "\n",
    "- \"ls\" lists computer files in Unix and Unix-like operating systems\n",
    "- \"cd\" offers way to navigate and change working directory\n",
    "- \"pwd\" print working directory\n",
    "- \"echo\" used to display line of text/string that are passed as an argument"
   ]
  },
  {
   "cell_type": "code",
   "execution_count": 39,
   "metadata": {
    "vscode": {
     "languageId": "shellscript"
    }
   },
   "outputs": [
    {
     "name": "stdout",
     "output_type": "stream",
     "text": [
      "Navigate to project, then navigate to area where files were cloned\n",
      "/Users/parav/vscode/firstrepo\n",
      "\n",
      "list top level or root of files with project pulled from github\n",
      "2022-05-15-07-21-16.png\t_action_files\t\t_posts\n",
      "2022-05-15-07-24-25.png\t_config.yml\t\t_sass\n",
      "2022-05-15-07-25-15.png\t_fastpages_docs\t\t_word\n",
      "Gemfile\t\t\t_includes\t\tassets\n",
      "LICENSE\t\t\t_layouts\t\tdocker-compose.yml\n",
      "Makefile\t\t_notebooks\t\timages\n",
      "README.md\t\t_pages\t\t\tindex.html\n",
      "Untitled.ipynb\t\t_plugins\n",
      "\n",
      "list again with hidden files pulled from github\n",
      ".\t\t\tGemfile\t\t\t_pages\n",
      "..\t\t\tLICENSE\t\t\t_plugins\n",
      ".devcontainer.json\tMakefile\t\t_posts\n",
      ".git\t\t\tREADME.md\t\t_sass\n",
      ".gitattributes\t\tUntitled.ipynb\t\t_word\n",
      ".github\t\t\t_action_files\t\tassets\n",
      ".gitignore\t\t_config.yml\t\tdocker-compose.yml\n",
      ".ipynb_checkpoints\t_fastpages_docs\t\timages\n",
      "2022-05-15-07-21-16.png\t_includes\t\tindex.html\n",
      "2022-05-15-07-24-25.png\t_layouts\n",
      "2022-05-15-07-25-15.png\t_notebooks\n",
      "\n",
      "list all files in long format\n",
      "total 872\n",
      "drwxr-xr-x  31 parav  staff     992 Aug 24 13:46 .\n",
      "drwxr-xr-x   4 parav  staff     128 Aug 23 13:24 ..\n",
      "-rw-r--r--   1 parav  staff     420 Aug 21 15:49 .devcontainer.json\n",
      "drwxr-xr-x  15 parav  staff     480 Aug 28 20:58 .git\n",
      "-rw-r--r--   1 parav  staff      84 Aug 21 15:49 .gitattributes\n",
      "drwxr-xr-x   4 parav  staff     128 Aug 21 15:49 .github\n",
      "-rw-r--r--   1 parav  staff     161 Aug 21 15:49 .gitignore\n",
      "drwxr-xr-x   3 parav  staff      96 Aug 27 14:19 .ipynb_checkpoints\n",
      "-rw-r--r--   1 parav  staff  207007 Aug 21 15:49 2022-05-15-07-21-16.png\n",
      "-rw-r--r--   1 parav  staff   90979 Aug 21 15:49 2022-05-15-07-24-25.png\n",
      "-rw-r--r--   1 parav  staff   81691 Aug 21 15:49 2022-05-15-07-25-15.png\n",
      "-rwxr-xr-x   1 parav  staff    1304 Aug 21 15:49 Gemfile\n",
      "-rw-r--r--   1 parav  staff   11351 Aug 21 15:49 LICENSE\n",
      "-rwxr-xr-x   1 parav  staff    1422 Aug 21 15:49 Makefile\n",
      "-rwxr-xr-x   1 parav  staff    3623 Aug 21 15:49 README.md\n",
      "-rw-r--r--   1 parav  staff    8224 Aug 24 12:56 Untitled.ipynb\n",
      "drwxr-xr-x  18 parav  staff     576 Aug 21 15:49 _action_files\n",
      "-rw-r--r--   1 parav  staff    3687 Aug 21 15:49 _config.yml\n",
      "drwxr-xr-x  24 parav  staff     768 Aug 21 15:49 _fastpages_docs\n",
      "drwxr-xr-x  27 parav  staff     864 Aug 21 15:49 _includes\n",
      "drwxr-xr-x   6 parav  staff     192 Aug 21 15:49 _layouts\n",
      "drwxr-xr-x  11 parav  staff     352 Aug 28 20:24 _notebooks\n",
      "drwxr-xr-x   8 parav  staff     256 Aug 27 14:38 _pages\n",
      "drwxr-xr-x   4 parav  staff     128 Aug 21 15:49 _plugins\n",
      "drwxr-xr-x   6 parav  staff     192 Aug 27 14:47 _posts\n",
      "drwxr-xr-x   3 parav  staff      96 Aug 21 15:49 _sass\n",
      "drwxr-xr-x   6 parav  staff     192 Aug 28 20:15 _word\n",
      "drwxr-xr-x   4 parav  staff     128 Aug 21 15:49 assets\n",
      "-rwxr-xr-x   1 parav  staff    1136 Aug 21 15:49 docker-compose.yml\n",
      "drwxr-xr-x   7 parav  staff     224 Aug 21 15:49 images\n",
      "-rw-r--r--   1 parav  staff     621 Aug 21 15:49 index.html\n"
     ]
    }
   ],
   "source": [
    "echo \"Navigate to project, then navigate to area where files were cloned\"\n",
    "cd $project\n",
    "pwd\n",
    "\n",
    "echo \"\"\n",
    "echo \"list top level or root of files with project pulled from github\"\n",
    "ls\n",
    "\n",
    "echo \"\"\n",
    "echo \"list again with hidden files pulled from github\"\n",
    "ls -a   # hidden files flag, many shell commands have flags\n",
    "\n",
    "echo \"\"\n",
    "echo \"list all files in long format\"\n",
    "ls -al   # all files and long listing"
   ]
  },
  {
   "cell_type": "code",
   "execution_count": 40,
   "metadata": {
    "vscode": {
     "languageId": "shellscript"
    }
   },
   "outputs": [
    {
     "name": "stdout",
     "output_type": "stream",
     "text": [
      "Look for posts\n",
      "/Users/parav/vscode/firstrepo/_posts\n",
      "total 24\n",
      "-rwxr-xr-x  1 parav  staff  2520 Aug 23 13:51 2020-01-14-test-markdown-post.md\n",
      "-rw-r--r--  1 parav  staff   213 Aug 22 13:04 2022-8-21-myfirstpost.md\n",
      "-rw-r--r--  1 parav  staff   720 Aug 21 15:49 README.md\n"
     ]
    }
   ],
   "source": [
    "# You must run cells above to define variable and project\n",
    "\n",
    "echo \"Look for posts\"\n",
    "export posts=$project/_posts  # _posts inside project\n",
    "cd $posts  # this should exist per fastpages\n",
    "pwd  # present working directory\n",
    "ls -l  # list posts"
   ]
  },
  {
   "cell_type": "code",
   "execution_count": 41,
   "metadata": {
    "vscode": {
     "languageId": "shellscript"
    }
   },
   "outputs": [
    {
     "name": "stdout",
     "output_type": "stream",
     "text": [
      "Look for notebooks\n",
      "/Users/parav/vscode/firstrepo/_notebooks\n",
      "total 6272\n",
      "-rw-r--r--  1 parav  staff  3162468 Aug 22 13:04 2020-02-20-test.ipynb\n",
      "-rw-r--r--  1 parav  staff     5152 Aug 28 20:17 2022-08-24-quiz.ipynb\n",
      "-rw-r--r--  1 parav  staff    22728 Aug 28 21:18 2022-08-28-bashchecks.ipynb\n",
      "-rw-r--r--  1 parav  staff     1050 Aug 22 13:04 2022-8-21-myfirstnb.ipynb\n",
      "-rw-r--r--  1 parav  staff      771 Aug 21 15:49 README.md\n",
      "drwxr-xr-x  4 parav  staff      128 Aug 21 15:49 ghtop_images\n",
      "drwxr-xr-x  3 parav  staff       96 Aug 27 20:43 my_icons\n",
      "-rw-r--r--  1 parav  staff     1904 Aug 24 14:24 paravsquiz.py\n"
     ]
    }
   ],
   "source": [
    "# You must run cells above to define variable and project\n",
    "\n",
    "echo \"Look for notebooks\"\n",
    "export notebooks=$project/_notebooks  # _notebooks is inside project\n",
    "cd $notebooks   # this should exist per fastpages\n",
    "pwd  # present working directory\n",
    "ls -l  # list notebooks"
   ]
  },
  {
   "cell_type": "code",
   "execution_count": 42,
   "metadata": {
    "vscode": {
     "languageId": "shellscript"
    }
   },
   "outputs": [
    {
     "name": "stdout",
     "output_type": "stream",
     "text": [
      "Look for images in notebooks, print working directory, list files\n",
      "bash: cd: /Users/parav/vscode/firstrepo/_notebooks/images: No such file or directory\n",
      "/Users/parav/vscode/firstrepo/_notebooks\n",
      "total 6272\n",
      "-rw-r--r--  1 parav  staff  3162468 Aug 22 13:04 2020-02-20-test.ipynb\n",
      "-rw-r--r--  1 parav  staff     5152 Aug 28 20:17 2022-08-24-quiz.ipynb\n",
      "-rw-r--r--  1 parav  staff    22728 Aug 28 21:18 2022-08-28-bashchecks.ipynb\n",
      "-rw-r--r--  1 parav  staff     1050 Aug 22 13:04 2022-8-21-myfirstnb.ipynb\n",
      "-rw-r--r--  1 parav  staff      771 Aug 21 15:49 README.md\n",
      "drwxr-xr-x  4 parav  staff      128 Aug 21 15:49 ghtop_images\n",
      "drwxr-xr-x  3 parav  staff       96 Aug 27 20:43 my_icons\n",
      "-rw-r--r--  1 parav  staff     1904 Aug 24 14:24 paravsquiz.py\n"
     ]
    }
   ],
   "source": [
    "# You must run cells above to define notebooks location\n",
    "\n",
    "echo \"Look for images in notebooks, print working directory, list files\"\n",
    "cd $notebooks/images  # this should exist per fastpages\n",
    "pwd\n",
    "ls -l"
   ]
  },
  {
   "cell_type": "markdown",
   "metadata": {},
   "source": [
    "Look inside a Markdown File\n",
    "\n",
    "> \"cat\" reads data from the file and gives its content as output"
   ]
  },
  {
   "cell_type": "code",
   "execution_count": 43,
   "metadata": {
    "vscode": {
     "languageId": "shellscript"
    }
   },
   "outputs": [
    {
     "name": "stdout",
     "output_type": "stream",
     "text": [
      "Navigate to project, then navigate to area wwhere files were cloned\n",
      "show the contents of README.md\n",
      "\n",
      "[//]: # (This template replaces README.md when someone creates a new repo with the fastpages template.)\n",
      "\n",
      "![](https://github.com/paravsalaniwal/firstrepo/workflows/CI/badge.svg) \n",
      "![](https://github.com/paravsalaniwal/firstrepo/workflows/GH-Pages%20Status/badge.svg) \n",
      "[![](https://img.shields.io/static/v1?label=fastai&message=fastpages&color=57aeac&labelColor=black&style=flat&logo=data:image/png;base64,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)](https://github.com/fastai/fastpages)\n",
      "\n",
      "https://paravsalaniwal.github.io/firstrepo/\n",
      "\n",
      "# My Blog\n",
      "\n",
      "\n",
      "_powered by [fastpages](https://github.com/fastai/fastpages)_\n",
      "\n",
      "\n",
      "## What To Do Next?\n",
      "\n",
      "Great!  You have setup your repo.  Now its time to start writing content.  Some helpful links:\n",
      "\n",
      "- [Writing Blogs With Jupyter](https://github.com/fastai/fastpages#writing-blog-posts-with-jupyter)\n",
      "\n",
      "- [Writing Blogs With Markdown](https://github.com/fastai/fastpages#writing-blog-posts-with-markdown)\n",
      "\n",
      "- [Writing Blog Posts With Word](https://github.com/fastai/fastpages#writing-blog-posts-with-microsoft-word)\n",
      "\n",
      "- [(Optional) Preview Your Blog Locally](_fastpages_docs/DEVELOPMENT.md)\n",
      "\n",
      "Note: you may want to remove example blog posts from the `_posts`,  `_notebooks` or `_word` folders (but leave them empty, don't delete these folders) if you don't want these blog posts to appear on your site.\n",
      "\n",
      "Please use the [nbdev & blogging channel](https://forums.fast.ai/c/fastai-users/nbdev/48) in the fastai forums for any questions or feature requests.\n",
      "\n",
      "end of README.md\n"
     ]
    }
   ],
   "source": [
    "# You must run cells above to define project\n",
    "echo \"Navigate to project, then navigate to area wwhere files were cloned\"\n",
    "\n",
    "cd $project\n",
    "echo \"show the contents of README.md\"\n",
    "echo \"\"\n",
    "\n",
    "cat README.md  # show contents of file, in this case markdown\n",
    "echo \"\"\n",
    "echo \"end of README.md\""
   ]
  },
  {
   "cell_type": "markdown",
   "metadata": {},
   "source": [
    "Env, Git and GitHub\n",
    "\n",
    "> Env(ironment) is used to capture things like path to Code or Home directory. Git and GitHub is NOT Only used to exchange code between individuals, it is often used to exchange code through servers, in our case deployment for Website. All tools we use have a behind the scenes hav relationship with the system they run on (MacOS, Windows, Linus) or a relationship with servers which they are connected to (ie GitHub). There is an \"env\" command in bash. There are environment files and setting files (.git/config) for Git. They both use a key/value concept.\n",
    "\n",
    "- \"env\" show setting for your shell\n",
    "- \"git clone\" sets up a director of files\n",
    "- \"cd $project\" allows user to move inside that directory of files\n",
    "- \".git\" is a hidden directory that is used by git to establish relationship between machine and the git server on GitHub."
   ]
  },
  {
   "cell_type": "code",
   "execution_count": 44,
   "metadata": {
    "vscode": {
     "languageId": "shellscript"
    }
   },
   "outputs": [
    {
     "name": "stdout",
     "output_type": "stream",
     "text": [
      "Show the shell environment variables, key on left of equal value on right\n",
      "\n",
      "SHELL=/bin/zsh\n",
      "TMPDIR=/var/folders/cw/l3n5900n2bl_cmrpnv4h2r500000gp/T/\n",
      "LIBRARY_PATH=/usr/local/lib\n",
      "CONDA_SHLVL=1\n",
      "PYTHONUNBUFFERED=1\n",
      "CONDA_PROMPT_MODIFIER=(base) \n",
      "SDKROOT=/Library/Developer/CommandLineTools/SDKs/MacOSX.sdk\n",
      "OLDPWD=/Users/parav/vscode/firstrepo/_notebooks\n",
      "ORIGINAL_XDG_CURRENT_DESKTOP=undefined\n",
      "MallocNanoZone=0\n",
      "PYDEVD_USE_FRAME_EVAL=NO\n",
      "PYTHONIOENCODING=utf-8\n",
      "USER=parav\n",
      "COMMAND_MODE=unix2003\n",
      "CONDA_EXE=/Users/parav/opt/anaconda3/bin/conda\n",
      "CPATH=/usr/local/include\n",
      "SSH_AUTH_SOCK=/private/tmp/com.apple.launchd.3t8ROEfjIO/Listeners\n",
      "__CF_USER_TEXT_ENCODING=0x1F6:0x0:0x0\n",
      "JPY_PARENT_PID=6643\n",
      "PAGER=cat\n",
      "VSCODE_AMD_ENTRYPOINT=vs/workbench/api/node/extensionHostProcess\n",
      "ELECTRON_RUN_AS_NODE=1\n",
      "JUPYTER_PATH=/Users/parav/.vscode/extensions/ms-toolsai.jupyter-2022.7.1102252217/temp/jupyter\n",
      "_CE_CONDA=\n",
      "PATH=/Users/parav/opt/anaconda3/bin:/Users/parav/opt/anaconda3/condabin:/Library/Frameworks/Python.framework/Versions/2.7/bin:/usr/local/bin:/usr/bin:/bin:/usr/sbin:/sbin\n",
      "CONDA_PREFIX=/Users/parav/opt/anaconda3\n",
      "__CFBundleIdentifier=com.microsoft.VSCode\n",
      "PWD=/Users/parav/vscode/firstrepo\n",
      "notebooks=/Users/parav/vscode/firstrepo/_notebooks\n",
      "VSCODE_HANDLES_UNCAUGHT_ERRORS=true\n",
      "project_repo=https://github.com/paravsalaniwal/firstrepo.git\n",
      "project=/Users/parav/vscode/firstrepo\n",
      "project_dir=/Users/parav/vscode\n",
      "XPC_FLAGS=0x0\n",
      "PS1=[PEXP\\[\\]ECT_PROMPT>\n",
      "_CE_M=\n",
      "XPC_SERVICE_NAME=0\n",
      "SHLVL=1\n",
      "HOME=/Users/parav\n",
      "APPLICATION_INSIGHTS_NO_DIAGNOSTIC_CHANNEL=1\n",
      "VSCODE_NLS_CONFIG={\"locale\":\"en-us\",\"availableLanguages\":{},\"_languagePackSupport\":true}\n",
      "PYTHONPATH=/Users/parav/.vscode/extensions/ms-toolsai.jupyter-2022.7.1102252217/pythonFiles:/Users/parav/.vscode/extensions/ms-toolsai.jupyter-2022.7.1102252217/pythonFiles/lib/python\n",
      "CONDA_PYTHON_EXE=/Users/parav/opt/anaconda3/bin/python\n",
      "LOGNAME=parav\n",
      "LC_CTYPE=UTF-8\n",
      "VSCODE_IPC_HOOK=/Users/parav/Library/Application Support/Code/1.70.2-main.sock\n",
      "VSCODE_CODE_CACHE_PATH=/Users/parav/Library/Application Support/Code/CachedData/e4503b30fc78200f846c62cf8091b76ff5547662\n",
      "CONDA_DEFAULT_ENV=base\n",
      "VSCODE_PID=6556\n",
      "posts=/Users/parav/vscode/firstrepo/_posts\n",
      "VSCODE_CWD=/\n",
      "_=/usr/bin/env\n"
     ]
    }
   ],
   "source": [
    "# This command has no dependencies\n",
    "\n",
    "echo \"Show the shell environment variables, key on left of equal value on right\"\n",
    "echo \"\"\n",
    "\n",
    "env"
   ]
  },
  {
   "cell_type": "code",
   "execution_count": 45,
   "metadata": {
    "vscode": {
     "languageId": "shellscript"
    }
   },
   "outputs": [
    {
     "name": "stdout",
     "output_type": "stream",
     "text": [
      "\n",
      "show the secrets of .git\n",
      "total 88\n",
      "-rw-r--r--    1 parav  staff     35 Aug 28 20:58 COMMIT_EDITMSG\n",
      "-rw-r--r--    1 parav  staff    602 Aug 28 20:58 FETCH_HEAD\n",
      "-rw-r--r--    1 parav  staff     23 Aug 21 15:49 HEAD\n",
      "-rw-r--r--    1 parav  staff     41 Aug 26 14:50 ORIG_HEAD\n",
      "-rw-r--r--    1 parav  staff    352 Aug 21 18:52 config\n",
      "-rw-r--r--    1 parav  staff     73 Aug 21 15:49 description\n",
      "drwxr-xr-x   15 parav  staff    480 Aug 21 15:49 hooks\n",
      "-rw-r--r--    1 parav  staff  12925 Aug 28 20:58 index\n",
      "drwxr-xr-x    3 parav  staff     96 Aug 21 15:49 info\n",
      "drwxr-xr-x    4 parav  staff    128 Aug 21 15:49 logs\n",
      "drwxr-xr-x  251 parav  staff   8032 Aug 28 20:58 objects\n",
      "-rw-r--r--    1 parav  staff    411 Aug 21 15:49 packed-refs\n",
      "drwxr-xr-x    5 parav  staff    160 Aug 21 15:49 refs\n",
      "\n",
      "look at config file\n",
      "[core]\n",
      "\trepositoryformatversion = 0\n",
      "\tfilemode = true\n",
      "\tbare = false\n",
      "\tlogallrefupdates = true\n",
      "\tignorecase = true\n",
      "\tprecomposeunicode = true\n",
      "[remote \"origin\"]\n",
      "\turl = https://github.com/paravsalaniwal/firstrepo.git\n",
      "\tfetch = +refs/heads/*:refs/remotes/origin/*\n",
      "[branch \"master\"]\n",
      "\tremote = origin\n",
      "\tmerge = refs/heads/master\n",
      "[lfs]\n",
      "\trepositoryformatversion = 0\n"
     ]
    }
   ],
   "source": [
    "# This command has dependencies on project\n",
    "\n",
    "cd $project\n",
    "\n",
    "echo \"\"\n",
    "echo \"show the secrets of .git\"\n",
    "cd .git\n",
    "ls -l\n",
    "\n",
    "echo \"\"\n",
    "echo \"look at config file\"\n",
    "cat config"
   ]
  },
  {
   "cell_type": "markdown",
   "metadata": {},
   "source": [
    "### Hacks\n",
    "\n",
    "> Go back to some of the deployment procedures and think about some thing you could verify through Bash notebook.\n",
    "\n",
    "- Is there anything we use to verify tools we install? Think about versions.\n",
    "- Is there anything we could verify with Anaconda?\n",
    "- How would you update a repository?\n",
    "- Really cool would be automating a procedure from installation."
   ]
  },
  {
   "cell_type": "markdown",
   "metadata": {},
   "source": [
    "#### Answer to the Hacks\n",
    "\n",
    "- We can use the command `conda --list` to check the tools we have installed.\n",
    "- To verify the tool versions we have installed, we can run the command `bash --version` or `jupyter --version`\n",
    "- The commands to update a repository would be `git stage changes`, `git commit`, and `git push`"
   ]
  }
 ],
 "metadata": {
  "kernelspec": {
   "display_name": "Bash",
   "language": "bash",
   "name": "bash"
  },
  "language_info": {
   "codemirror_mode": "shell",
   "file_extension": ".sh",
   "mimetype": "text/x-sh",
   "name": "bash"
  },
  "orig_nbformat": 4
 },
 "nbformat": 4,
 "nbformat_minor": 2
}
