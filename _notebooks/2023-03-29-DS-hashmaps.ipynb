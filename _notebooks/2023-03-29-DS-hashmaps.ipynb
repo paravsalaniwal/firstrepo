{
 "cells": [
  {
   "attachments": {},
   "cell_type": "markdown",
   "metadata": {},
   "source": [
    "#  Data Structures- Hashmaps, Sets, Hash Tables, Hashing and Collisions\n",
    "> Observing hashmaps with python dictionaries\n",
    "- toc: true\n",
    "- image: /images/WLR.png\n",
    "- week: 28"
   ]
  },
  {
   "attachments": {},
   "cell_type": "markdown",
   "metadata": {},
   "source": [
    "## What is a Hashtable/Hashmap?\n",
    "\n",
    "> A hashtable is a data structure that with a collection of key-value pairs, where each key maps to a value, and the keys must be unique and hashable.\n",
    "\n",
    "- In Python there is a built in hashtable known as a dictionary.\n",
    "\n",
    "> The primary purpose of a hashtable is to provide efficient lookup, insertion, and deletion operations. When an element is to be inserted into the hashtable, a hash function is used to map the key to a specific index in the underlying array that is used to store the key-value pairs. The value is then stored at that index. When searching for a value, the hash function is used again to find the index where the value is stored.\n",
    "\n",
    "> The key advantage of a hashtable over other data structures like arrays and linked lists is its average-case time complexity for lookup, insertion, and deletion operations.\n",
    "\n",
    "- The typical time complexity of a hashtable is O(1), also considered constant time. \n"
   ]
  },
  {
   "attachments": {},
   "cell_type": "markdown",
   "metadata": {},
   "source": [
    "## What is Hashing and Collision?\n",
    "\n",
    "> Hashing is the process of mapping a given key to a value in a hash table or hashmap, using a hash function. The hash function takes the key as input and produces a hash value or hash code, which is then used to determine the index in the underlying array where the value is stored. The purpose of hashing is to provide a quick and efficient way to access data, by eliminating the need to search through an entire data structure to find a value.\n",
    "\n",
    "> However, it is possible for two different keys to map to the same hash value, resulting in a collision. When a collision occurs, there are different ways to resolve it, depending on the collision resolution strategy used.\n",
    "\n",
    "> Python's dictionary implementation is optimized to handle collisions efficiently, and the performance of the dictionary is generally very good, even in the presence of collisions. However, if the number of collisions is very high, the performance of the dictionary can degrade, so it is important to choose a good hash function that minimizes collisions when designing a Python dictionary.\n",
    "\n",
    "## What is a Set?"
   ]
  },
  {
   "cell_type": "code",
   "execution_count": 1,
   "metadata": {},
   "outputs": [
    {
     "name": "stdout",
     "output_type": "stream",
     "text": [
      "{1, 2, 3}\n"
     ]
    }
   ],
   "source": [
    "# Creating a set using set() function\n",
    "my_set = set([1, 2, 3, 2, 1])\n",
    "print(my_set)  \n",
    "\n",
    "# What do you notice in the output?\n",
    "# It doesn't print out the number again if it is repeated, and already mentioned once\n",
    "\n",
    "# Why do you think Sets are in the same tech talk as Hashmaps/Hashtables?\n",
    "# There will never be a duplicate in either."
   ]
  },
  {
   "attachments": {},
   "cell_type": "markdown",
   "metadata": {},
   "source": [
    "## Dictionary Example\n",
    "\n",
    "Below are just some basic features of a dictionary. As always, documentation is always the main source for all the full capablilties. "
   ]
  },
  {
   "cell_type": "code",
   "execution_count": 47,
   "metadata": {},
   "outputs": [
    {
     "name": "stdout",
     "output_type": "stream",
     "text": [
      "-----Album Information-----\n",
      "Whole Lotta Red\n",
      "Playboi Carti\n",
      "December 25, 2020\n",
      "\n",
      "-----Album Cover-----\n"
     ]
    },
    {
     "data": {
      "text/html": [
       "<img src=\"data:image/png;base64,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\">"
      ],
      "text/plain": [
       "<IPython.core.display.HTML object>"
      ]
     },
     "metadata": {},
     "output_type": "display_data"
    },
    {
     "name": "stdout",
     "output_type": "stream",
     "text": [
      "\n",
      "-----Tracklist-----\n",
      "{'title': 'Whole Lotta Red', 'artist': 'Playboi Carti', 'year': 2020, 'genre': ['Rap', 'HipHop'], 'tracks': {1: 'Rockstar Made', 2: 'Go2DaMoon', 3: 'Stop Breathing', 4: 'Beno !', 5: 'JumpOutTheHouse', 6: 'M3tamorphosis', 7: 'Slay3r', 8: 'No Sl33p', 9: 'New Tank', 10: 'Teen X', 11: 'Meh', 12: 'Vamp Anthem', 13: 'New N3on', 14: 'Control', 15: 'Punk Monk', 16: 'On That Time', 17: 'King Vamp', 18: 'Place', 19: 'Sky', 20: 'Over', 21: 'ILoveUIHateU', 22: 'Die4Guy', 23: 'Not PLaying', 24: 'F33l Lik3 Dyin'}}\n"
     ]
    }
   ],
   "source": [
    "from IPython.display import HTML, display\n",
    "from pathlib import Path \n",
    "from PIL import Image as pilImage \n",
    "from io import BytesIO\n",
    "import base64\n",
    "\n",
    "# prepares a series of images\n",
    "def image_data(path=Path(\"images/\"), images=None):  # path of static images is defaulted\n",
    "    for image in images:\n",
    "        # File to open\n",
    "        image['filename'] = path / image['file']  # file with path\n",
    "    return images\n",
    "\n",
    "def scale_image(img):\n",
    "    baseWidth = 125\n",
    "    scalePercent = (baseWidth/float(img.size[0]))\n",
    "    scaleHeight = int((float(img.size[1])*float(scalePercent)))\n",
    "    scale = (baseWidth, scaleHeight)\n",
    "    return img.resize(scale)\n",
    "\n",
    "def image_to_base64(img, format):\n",
    "    with BytesIO() as buffer:\n",
    "        img.save(buffer, format)\n",
    "        return base64.b64encode(buffer.getvalue()).decode()\n",
    "    \n",
    "def image_management(image):  # path of static images is defaulted        \n",
    "    # Image open return PIL image object\n",
    "    img = pilImage.open(image['filename'])\n",
    "    \n",
    "    # Python Image Library operations\n",
    "    image['format'] = img.format\n",
    "    image['mode'] = img.mode\n",
    "    image['size'] = img.size\n",
    "    image['width'], image['height'] = img.size\n",
    "    image['pixels'] = image['width'] * image['height']\n",
    "    # Scale the Image\n",
    "    img = scale_image(img)\n",
    "    image['pil'] = img\n",
    "    image['scaled_size'] = img.size\n",
    "    image['scaled_width'], image['scaled_height'] = img.size\n",
    "    image['scaled_pixels'] = image['scaled_width'] * image['scaled_height']\n",
    "    # Scaled HTML\n",
    "    image['html'] = '<img src=\"data:image/png;base64,%s\">' % image_to_base64(image['pil'], image['format'])\n",
    "\n",
    "\n",
    "if __name__ == \"__main__\":\n",
    "    # Use numpy to concatenate two arrays\n",
    "    images = image_data(images = [{'source': \"Playboi Carti\", 'label': \"Whole Lotta Red\", 'file': \"WLR.png\"}])\n",
    "    \n",
    "    # Display meta data, scaled view, and grey scale for each image\n",
    "    for image in images:\n",
    "        image_management(image)\n",
    "        print(\"-----Album Information-----\")\n",
    "        print(image['label'])\n",
    "        print(image['source'])\n",
    "        print(\"December 25, 2020\")\n",
    "        print(\"\")\n",
    "        \n",
    "        print(\"-----Album Cover-----\")\n",
    "        display(HTML(image['html'])) \n",
    "        print(\"\")\n",
    "        print(\"-----Tracklist-----\")\n",
    "\n",
    "WLR = {\n",
    "    \"title\": \"Whole Lotta Red\",\n",
    "    \"artist\": \"Playboi Carti\",\n",
    "    \"year\": 2020,\n",
    "    \"genre\": [\"Rap\", \"HipHop\"],\n",
    "    \"tracks\": {\n",
    "        1: \"Rockstar Made\",\n",
    "        2: \"Go2DaMoon\",\n",
    "        3: \"Stop Breathing\",\n",
    "        4: \"Beno !\",\n",
    "        5: \"JumpOutTheHouse\",\n",
    "        6: \"M3tamorphosis\",\n",
    "        7: \"Slay3r\",\n",
    "        8: \"No Sl33p\",\n",
    "        9: \"New Tank\",\n",
    "        10: \"Teen X\",\n",
    "        11: \"Meh\",\n",
    "        12: \"Vamp Anthem\",\n",
    "        13: \"New N3on\",\n",
    "        14: \"Control\",\n",
    "        15: \"Punk Monk\",\n",
    "        16: \"On That Time\",\n",
    "        17: \"King Vamp\",\n",
    "        18: \"Place\",\n",
    "        19: \"Sky\",\n",
    "        20: \"Over\",\n",
    "        21: \"ILoveUIHateU\",\n",
    "        22: \"Die4Guy\",\n",
    "        23: \"Not PLaying\",\n",
    "        24: \"F33l Lik3 Dyin\"\n",
    "    }\n",
    "}\n",
    "\n",
    "# What data structures do you see?\n",
    "# I recognize a dictionary because it contains the curly brackets, integers, and strings.\n",
    "\n",
    "# Printing the dictionary\n",
    "print(WLR)"
   ]
  },
  {
   "cell_type": "code",
   "execution_count": 3,
   "metadata": {},
   "outputs": [
    {
     "name": "stdout",
     "output_type": "stream",
     "text": [
      "{1: 'I Forgot That You Existed', 2: 'Cruel Summer', 3: 'Lover', 4: 'The Man', 5: 'The Archer', 6: 'I Think He Knows', 7: 'Miss Americana & The Heartbreak Prince', 8: 'Paper Rings', 9: 'Cornelia Street', 10: 'Death By A Thousand Cuts', 11: 'London Boy', 12: \"Soon You'll Get Better (feat. Dixie Chicks)\", 13: 'False God', 14: 'You Need To Calm Down', 15: 'Afterglow', 16: 'Me! (feat. Brendon Urie of Panic! At The Disco)', 17: \"It's Nice To Have A Friend\", 18: 'Daylight'}\n",
      "{1: 'I Forgot That You Existed', 2: 'Cruel Summer', 3: 'Lover', 4: 'The Man', 5: 'The Archer', 6: 'I Think He Knows', 7: 'Miss Americana & The Heartbreak Prince', 8: 'Paper Rings', 9: 'Cornelia Street', 10: 'Death By A Thousand Cuts', 11: 'London Boy', 12: \"Soon You'll Get Better (feat. Dixie Chicks)\", 13: 'False God', 14: 'You Need To Calm Down', 15: 'Afterglow', 16: 'Me! (feat. Brendon Urie of Panic! At The Disco)', 17: \"It's Nice To Have A Friend\", 18: 'Daylight'}\n"
     ]
    }
   ],
   "source": [
    "# Retrieve value from dictionary with key\n",
    "print(WLR.get('tracks'))\n",
    "# or\n",
    "print(WLR['tracks'])"
   ]
  },
  {
   "cell_type": "code",
   "execution_count": 41,
   "metadata": {},
   "outputs": [
    {
     "name": "stdout",
     "output_type": "stream",
     "text": [
      "Stop Breathing\n",
      "New Tank\n"
     ]
    }
   ],
   "source": [
    "# Retrieve value from a dictionary inside a dictionary\n",
    "print(WLR.get('tracks')[3])\n",
    "# or\n",
    "print(WLR['tracks'][9])"
   ]
  },
  {
   "cell_type": "code",
   "execution_count": 42,
   "metadata": {},
   "outputs": [
    {
     "name": "stdout",
     "output_type": "stream",
     "text": [
      "{'title': 'Whole Lotta Red', 'artist': 'Playboi Carti', 'year': 2020, 'genre': ['Rap', 'HipHop'], 'tracks': {1: 'Rockstar Made', 2: 'Go2DaMoon', 3: 'Stop Breathing', 4: 'Beno !', 5: 'JumpOutTheHouse', 6: 'M3tamorphosis', 7: 'Slay3r', 8: 'No Sl33p', 9: 'New Tank', 10: 'Teen X', 11: 'Meh', 12: 'Vamp Anthem', 13: 'New N3on', 14: 'Control', 15: 'Punk Monk', 16: 'On That Time', 17: 'King Vamp', 18: 'Place', 19: 'Sky', 20: 'Over', 21: 'ILoveUIHateU', 22: 'Die4Guy', 23: 'Not PLaying', 24: 'F33l Lik3 Dyin'}, 'producer': {'F1lthy', 'Maaly Raw', 'Wheezy', 'Pierre Bourne', 'Playboi Carti'}}\n"
     ]
    }
   ],
   "source": [
    "# adding a value with a new key\n",
    "WLR[\"producer\"] = set(['Playboi Carti', 'Pierre Bourne', 'Maaly Raw', 'Wheezy', 'F1lthy'])\n",
    "\n",
    "# What can you change to make sure there are no duplicate producers?\n",
    "# add 'set' in front of the list of producers\n",
    "\n",
    "# Printing the dictionary\n",
    "print(WLR)"
   ]
  },
  {
   "cell_type": "code",
   "execution_count": 43,
   "metadata": {},
   "outputs": [
    {
     "name": "stdout",
     "output_type": "stream",
     "text": [
      "{'title': 'Whole Lotta Red', 'artist': 'Playboi Carti', 'year': 2020, 'genre': ['Rap', 'HipHop', 'Vamp‼️🩸'], 'tracks': {1: 'Rockstar Made', 2: 'Go2DaMoon', 3: 'Stop Breathing', 4: 'Beno !', 5: 'JumpOutTheHouse', 6: 'M3tamorphosis', 7: 'Slay3r', 8: 'No Sl33p', 9: 'New Tank', 10: 'Teen X', 11: 'Meh', 12: 'Vamp Anthem', 13: 'New N3on', 14: 'Control', 15: 'Punk Monk', 16: 'On That Time', 17: 'King Vamp', 18: 'Place', 19: 'Sky', 20: 'Over', 21: 'ILoveUIHateU', 22: 'Die4Guy', 23: 'Not PLaying', 24: 'F33l Lik3 Dyin'}, 'producer': {'F1lthy', 'Maaly Raw', 'Wheezy', 'Pierre Bourne', 'Playboi Carti'}}\n"
     ]
    }
   ],
   "source": [
    "# Adding a an key-value pair to an existing key \n",
    "WLR[\"tracks\"].update({21: \"ILoveUIHateU\"})\n",
    "WLR[\"genre\"].append(\"Vamp‼️🩸\")\n",
    "# How would add an additional genre to the dictionary, like electropop? \n",
    "# add 'append' and then the genre you would like to add\n",
    "\n",
    "# Printing the dictionary\n",
    "print(WLR)"
   ]
  },
  {
   "cell_type": "code",
   "execution_count": 7,
   "metadata": {},
   "outputs": [
    {
     "name": "stdout",
     "output_type": "stream",
     "text": [
      "1 : Rockstar Made\n",
      "2 : Go2DaMoon\n",
      "3 : Stop Breathing\n",
      "4 : Beno !\n",
      "5 : JumpOutTheHouse\n",
      "6 : M3tamorphosis\n",
      "7 : Slay3r\n",
      "8 : No Sl33p\n",
      "9 : New Tank\n",
      "10 : Teen X\n",
      "11 : Meh\n",
      "12 : Vamp Anthem\n",
      "13 : New N3on\n",
      "14 : Control\n",
      "15 : Punk Monk\n",
      "16 : On That Time\n",
      "17 : King Vamp\n",
      "18 : Place\n",
      "19 : Sky\n",
      "20 : Over\n",
      "21 : ILoveUIHateU\n",
      "22 : Die4Guy\n",
      "23 : Not PLaying\n",
      "24 : F33l Lik3 Dyin\n"
     ]
    }
   ],
   "source": [
    "# Print lover_album in more readable format\n",
    "# for k,v in WLR.items(): # iterate using a for loop for key and value\n",
    "#    print(str(k) + \": \" + str(v))\n",
    "# Write your own code to print tracks in readable format\n",
    "for k,v in WLR[\"tracks\"].items():\n",
    "    print(k,\":\",v)"
   ]
  },
  {
   "cell_type": "code",
   "execution_count": 11,
   "metadata": {},
   "outputs": [
    {
     "name": "stdout",
     "output_type": "stream",
     "text": [
      "Sorry, we could not find any information about that. Please try again.\n",
      "{1: 'Rockstar Made', 2: 'Go2DaMoon', 3: 'Stop Breathing', 4: 'Beno !', 5: 'JumpOutTheHouse', 6: 'M3tamorphosis', 7: 'Slay3r', 8: 'No Sl33p', 9: 'New Tank', 10: 'Teen X', 11: 'Meh', 12: 'Vamp Anthem', 13: 'New N3on', 14: 'Control', 15: 'Punk Monk', 16: 'On That Time', 17: 'King Vamp', 18: 'Place', 19: 'Sky', 20: 'Over', 21: 'ILoveUIHateU', 22: 'Die4Guy', 23: 'Not PLaying', 24: 'F33l Lik3 Dyin'}\n"
     ]
    }
   ],
   "source": [
    "# Using conditionals to retrieve a random song\n",
    "# def search():\n",
    "#     search = input(\"What would you like to know about the album?\")\n",
    "#     if WLR.get(search.lower()) == None:\n",
    "#         print(\"Invalid Search\")\n",
    "#     else:\n",
    "#         print(WLR.get(search.lower()))\n",
    "\n",
    "# search()\n",
    "\n",
    "# This is a very basic code segment, how can you improve upon this code?\n",
    "# We can add a while loop so that if the user misinputs something, then it will ask them to keep entering until it has been valid data within the dictionary\n",
    "\n",
    "def search():\n",
    "    while True:\n",
    "        search = input(\"What would you like to know about the album?\")\n",
    "        if not search:\n",
    "            print(\"Please enter a valid search term.\")\n",
    "        elif search.lower() not in WLR:\n",
    "            print(\"Sorry, we could not find any information about that. Please try again.\")\n",
    "        else:\n",
    "            print(WLR.get(search.lower()))\n",
    "            break\n",
    "\n",
    "search()\n"
   ]
  },
  {
   "attachments": {},
   "cell_type": "markdown",
   "metadata": {},
   "source": [
    "## Hacks\n",
    "\n",
    "- Answer *ALL* questions in the code segments\n",
    "- Create a diagram or comparison illustration (Canva).\n",
    "    - What are the pro and cons of using this data structure? \n",
    "    - Dictionary vs List    \n",
    "- Expand upon the code given to you, possible improvements in comments\n",
    "- Build your own album showing features of a python dictionary\n",
    "\n",
    "- For Mr. Yeung's class: Justify your favorite Taylor Swift song, answer may effect seed"
   ]
  },
  {
   "attachments": {},
   "cell_type": "markdown",
   "metadata": {},
   "source": [
    "![](https://user-images.githubusercontent.com/111609656/229336298-f4249c6b-8fab-48d6-9fc1-8b403e78d1ab.png)"
   ]
  },
  {
   "attachments": {},
   "cell_type": "markdown",
   "metadata": {},
   "source": [
    "![](https://user-images.githubusercontent.com/111609656/229336299-cabaae40-a9c1-4d16-b146-2b10e401c35b.png)"
   ]
  },
  {
   "attachments": {},
   "cell_type": "markdown",
   "metadata": {},
   "source": [
    "My favorite Taylor Swift song is \"Shake It Off,\" which was released in 2014, from the album '1989'. My taste of music is more upbeat and catchy music with strong lyrical music, and Taylor Swift killed it with this song, as she shows traits of resilience and self confidence. Swift talks about the negative comments she received in her life and expresses it through this song, encouraging her audience to \"shake it off\" and not be let down of yourself through other people's words. This is very reasonable for any audience, but as a highschooler, I feel that this song truly important as you can receive lots of hate from other students, but you have to not let it affect you, which is something I have learned from this song. \"Shake It Off\" encourages listeners to keep going and not give up, which can be a powerful message for young people who are still figuring out their place in the world, such as highschoolers like me. Overall, \"Shake It Off\" is my favorite Taylor Swift song because of its catchy beat, uplifting message, and relatable themes of self-confidence and resilience. This song was one of the first song's I've listened to from a young little kid and is the primary reason of why I enjoy listening to music nowadays."
   ]
  }
 ],
 "metadata": {
  "kernelspec": {
   "display_name": "base",
   "language": "python",
   "name": "python3"
  },
  "language_info": {
   "codemirror_mode": {
    "name": "ipython",
    "version": 3
   },
   "file_extension": ".py",
   "mimetype": "text/x-python",
   "name": "python",
   "nbconvert_exporter": "python",
   "pygments_lexer": "ipython3",
   "version": "3.9.12"
  },
  "orig_nbformat": 4
 },
 "nbformat": 4,
 "nbformat_minor": 2
}
