{
 "cells": [
  {
   "cell_type": "markdown",
   "metadata": {},
   "source": [
    "# \"Class Lesson Hacks\"\n",
    "\n",
    "- toc: true\n",
    "- comments: true\n",
    "- layout: post\n",
    "- author: Parav Salaniwal"
   ]
  },
  {
   "cell_type": "markdown",
   "metadata": {},
   "source": [
    "# Lessons 1 and 2\n",
    "\n",
    "Notes: \n",
    "- A variable is an abstraction inside a program that holds a value, where each variable has associated data storage that represents a single value at a time (However, if the value is a collection type such as a list, then the value can contain multiple values).\n",
    "- Variables can be seen as \"containers\" and each container has a name that holds what it is supposed to hold.\n",
    "- Variables have different data types that store specific kinds of data depending on what is being represented.\n",
    "\n",
    "## Hacks 1\n",
    "Questions (College Board's Essential Knowledge):\n",
    "1. What exactly IS a variable?\n",
    "   - A variable is an abstraction inside a program that holds a value, where each variable has associated data storage that represents a single value at a time.\n",
    "2. What is the best data type to represent someone's dog's name?\n",
    "   - A string\n",
    "3. Why is it important to give variables specific names before containing values?\n",
    "   - So that they have an appropriate name to the value which will be contained.\n",
    "4. What is the best way to represent someone's phone number?\n",
    "   - The best way is to use a string to make sure the numbers don't interfere with the code.\n",
    "\n",
    "Bonus (Not required but important to know): \n",
    "1. How can we update a variable's value\n",
    "   - Using + or - for incrementing or decrementing\n",
    "2. What function is used to receive a user's input?\n",
    "   - input()\n",
    "\n",
    "\n",
    "## Hacks 2\n",
    "Answer these:\n",
    "1. In your **own** words, briefly explain by writing down what an assignment operator is\n",
    "   - The assignment operator is the equal sign (=) which allows to assign elements of code to a value.\n",
    "2. In Collegeboard pseudocode, what symbol is used to assign values to variables?\n",
    "   - <--\n",
    "3. A variable, x, is initially given a value of 15. Later on, the value for x is changed to 22. If you print x, would the command display 15 or 22?\n",
    "   - The command would display 22.\n",
    "\n",
    "## Hacks 3\n",
    "1. What is a list?\n",
    "   - A sequence of elements with each element being a variable.\n",
    "2. What is an element\n",
    "   - The items inside of a list.\n",
    "3. What is an easy way to reference the elements in a list or string?\n",
    "   - using print()\n",
    "4. What is an example of a string?\n",
    "   - Phone number\n",
    "\n",
    "* Create a list with indices \n",
    "* Index a part of the list that you created.\n",
    "* Try to index from the end "
   ]
  },
  {
   "cell_type": "code",
   "execution_count": 2,
   "metadata": {},
   "outputs": [
    {
     "name": "stdout",
     "output_type": "stream",
     "text": [
      "Parav\n",
      "Nikhil\n"
     ]
    }
   ],
   "source": [
    "NamesList = [\"Taiyo\", \"Luna\", \"Parav\", \"Ethan\", \"Nikhil\"]\n",
    "print(NamesList[2])\n",
    "print(NamesList[4])"
   ]
  },
  {
   "cell_type": "markdown",
   "metadata": {},
   "source": [
    "The following code is incomplete. Its intended purpose is to increase three numbers, all of which ask for user input, by an amount specified the user. The input code is abstracted, but the actual logic isn’t connected to the abstraction."
   ]
  },
  {
   "cell_type": "code",
   "execution_count": 4,
   "metadata": {},
   "outputs": [
    {
     "name": "stdout",
     "output_type": "stream",
     "text": [
      "User submitted numbers [2, 4, 6]\n",
      "Plus 8\n",
      "Result:  [10, 12, 14]\n"
     ]
    }
   ],
   "source": [
    "num1=input(\"Input a number. \")\n",
    "num2=input(\"Input a number. \")\n",
    "num3=input(\"Input a number. \")\n",
    "add=input(\"How much would you like to add? \")\n",
    "\n",
    "# Add code in the space below\n",
    "\n",
    "numlist = [int(num1), int(num2), int(num3)]\n",
    "print(\"User submitted numbers\", numlist)\n",
    "print(\"Plus \" + add)\n",
    "\n",
    "# The following is the code that adds the inputted addend to the other numbers. It is hidden from the user.\n",
    "\n",
    "for i in range (len(numlist)):\n",
    "    numlist[i-1] += int(add)\n",
    "\n",
    "print(\"Result: \", numlist)"
   ]
  },
  {
   "cell_type": "code",
   "execution_count": 5,
   "metadata": {},
   "outputs": [
    {
     "name": "stdout",
     "output_type": "stream",
     "text": [
      "['pizza', 'pasta', 'sandwich', 'burger', 'soup']\n"
     ]
    }
   ],
   "source": [
    "foodlist = [\"pizza\", \"pasta\", \"sandwich\", \"burger\", \"soup\"]\n",
    "print(foodlist)"
   ]
  },
  {
   "cell_type": "code",
   "execution_count": 7,
   "metadata": {},
   "outputs": [
    {
     "name": "stdout",
     "output_type": "stream",
     "text": [
      "Hello, parav running /Library/Developer/CommandLineTools/usr/bin/python3\n",
      "You will be asked 3 questions.\n",
      "Question: Are you ready to take a test?\n",
      "Question: The purpose of lists and dictionaries are to manage the ____ of a program\n",
      "complexity is correct!\n",
      "Question: Lists are a form of data ______\n",
      "abstraction is correct!\n",
      "Question: Which brackets are used to assign values to a variable to make a list?\n",
      "[] is correct!\n",
      "parav you scored 3/3\n"
     ]
    }
   ],
   "source": [
    "import getpass, sys\n",
    "\n",
    "def question_with_response(prompt):\n",
    "    print(\"Question: \" + prompt)\n",
    "    msg = input()\n",
    "    return msg\n",
    "\n",
    "questions = 3\n",
    "correct = 0\n",
    "\n",
    "print('Hello, ' + getpass.getuser() + \" running \" + sys.executable)\n",
    "print(\"You will be asked \" + str(questions) + \" questions.\")\n",
    "question_with_response(\"Are you ready to take a test?\")\n",
    "\n",
    "rsp = question_with_response(\"The purpose of lists and dictionaries are to manage the ____ of a program\")\n",
    "if rsp == \"complexity\":\n",
    "    print(rsp + \" is correct!\")\n",
    "    correct += 1\n",
    "else:\n",
    "    print(rsp + \" is incorrect!\")\n",
    "\n",
    "rsp = question_with_response(\"Lists are a form of data ______\")\n",
    "if rsp == \"abstraction\":\n",
    "    print(rsp + \" is correct!\")\n",
    "    correct += 1\n",
    "else:\n",
    "    print(rsp + \" is incorrect!\")\n",
    "\n",
    "rsp = question_with_response(\"Which brackets are used to assign values to a variable to make a list?\")\n",
    "if rsp == \"[]\":\n",
    "    print(rsp + \" is correct!\")\n",
    "    correct += 1\n",
    "else:\n",
    "    print(rsp + \" is incorrect!\") \n",
    "\n",
    "print(getpass.getuser() + \" you scored \" + str(correct) +\"/\" + str(questions))"
   ]
  },
  {
   "cell_type": "markdown",
   "metadata": {},
   "source": [
    "# Lessons 3 and 4\n",
    "\n",
    "Notes: \n",
    "- An algorithm is a step-by-step process that specifies a series of directives that must be followed in a particular sequence in order to yield the desired outcome.\n",
    "- An algorithm gives the computer a specific set of instructions, which allows the computer to do everything\n",
    "- 3 parts of an algorithm: sequencing, selection, and iteration\n",
    "- A sequence is the way in which something should be done in order to reach a goal, much as how you would follow a teacher's directions.\n",
    "- An iteration is a loop in which something is repeated until a condition is satisfied, such as when you shut off your computer after finishing your job.\n",
    "- Arithmetic operator are language that use addition, subtraction, multiplication, division, and modulus operator.\n",
    "- Modulus operator divides the given numerator by the denominator to find a result,which is finding the remainder for the division(remainder has to an integer).\n",
    "\n",
    "## Hacks 1\n",
    "\n",
    "Sequencing: 1,2,5\n",
    "Selection: 3\n",
    "Iteration: 4\n",
    "\n",
    "## Hacks 2"
   ]
  },
  {
   "cell_type": "code",
   "execution_count": 1,
   "metadata": {},
   "outputs": [
    {
     "name": "stdout",
     "output_type": "stream",
     "text": [
      "3.0\n"
     ]
    }
   ],
   "source": [
    "num1 = 5\n",
    "num2 = num1 * 3\n",
    "num3 = num2 / num1 * (9 % 2) * 4\n",
    "result = (num3 % num1 + num2) % num3 * 3 / 5\n",
    "\n",
    "print(result)"
   ]
  },
  {
   "cell_type": "markdown",
   "metadata": {},
   "source": [
    "### Crossword Puzzle\n",
    "\n",
    "Down:\n",
    "1) iteration\n",
    "2) selection\n",
    "   \n",
    "Across:\n",
    "3) sequence"
   ]
  },
  {
   "cell_type": "markdown",
   "metadata": {},
   "source": [
    "![](https://user-images.githubusercontent.com/111609656/205225350-ff17d16d-437d-4212-969e-bb660cfacf70.png)"
   ]
  },
  {
   "cell_type": "markdown",
   "metadata": {},
   "source": [
    "# Lessons 5, 6, and 7\n",
    "\n",
    "Notes:\n",
    "- A boolean is a denoting a system of algebraic notation used to represent logical propositions, especially in computing and electronics.\n",
    "- boolean expressions are either true or false\n",
    "- Logical operators: not, and, or\n",
    "- Conditionals allow for the expression of algorithms that utilize selection without a programming language.\n",
    "- Nested conditional statements consist of conditional statements within conditional statements\n",
    "\n",
    "## Hacks 1\n",
    "NOT: this operator shows the opposite of what the data shows\n",
    "\n",
    "AND: evaluates two conditions simuntaneously and checks if both conditions are met\n",
    "\n",
    "OR: evaluates two conditions simuntaneously but will only make sure if one condition is met\n",
    "\n"
   ]
  },
  {
   "cell_type": "code",
   "execution_count": 1,
   "metadata": {},
   "outputs": [
    {
     "name": "stdout",
     "output_type": "stream",
     "text": [
      "True\n"
     ]
    }
   ],
   "source": [
    "isRunning = False\n",
    "result = not isRunning\n",
    "print(result)"
   ]
  },
  {
   "cell_type": "code",
   "execution_count": 4,
   "metadata": {},
   "outputs": [
    {
     "name": "stdout",
     "output_type": "stream",
     "text": [
      "You have a winning record\n"
     ]
    }
   ],
   "source": [
    "winpercentage = .785\n",
    "if winpercentage > .500 and winpercentage < 1.00:\n",
    "   print(\"You have a winning record\")"
   ]
  },
  {
   "cell_type": "code",
   "execution_count": 5,
   "metadata": {},
   "outputs": [
    {
     "name": "stdout",
     "output_type": "stream",
     "text": [
      "Your team won the championship!\n"
     ]
    }
   ],
   "source": [
    "wins = 4\n",
    "losses = 2\n",
    "if wins > 2 or losses < 4:\n",
    "   print(\"Your team won the championship!\")"
   ]
  },
  {
   "cell_type": "markdown",
   "metadata": {},
   "source": [
    "## Hacks 2\n",
    "Selection: only when the conditions return true or false does the algorithm actually run\n",
    "Algorithm: group of instructions to do a task\n",
    "Conditional Statement: a clause that modifies an algorithm's execution in accordance with the boolean value."
   ]
  },
  {
   "cell_type": "code",
   "execution_count": 6,
   "metadata": {},
   "outputs": [
    {
     "name": "stdout",
     "output_type": "stream",
     "text": [
      "23 is odd\n"
     ]
    }
   ],
   "source": [
    "x = 23\n",
    "\n",
    "if x % 2 == 0:\n",
    "    print(x, \"is even\")\n",
    "else:\n",
    "    print(x, \"is odd\")"
   ]
  },
  {
   "cell_type": "markdown",
   "metadata": {},
   "source": [
    "**Level One Challenge**"
   ]
  },
  {
   "cell_type": "code",
   "execution_count": 7,
   "metadata": {},
   "outputs": [
    {
     "name": "stdout",
     "output_type": "stream",
     "text": [
      "i\n",
      "a\n",
      "e\n",
      "i\n",
      "a\n",
      "a\n",
      "a\n",
      "a\n",
      "a\n",
      "o\n",
      "o\n",
      "o\n",
      "e\n",
      "a\n",
      "e\n",
      "o\n",
      "e\n"
     ]
    }
   ],
   "source": [
    "text = \"Hi my name is Parav and I am a sophomore at Del Norte HS\"\n",
    "for char in text:\n",
    "   if char == \"a\" or char == \"e\" or char == \"i\" or char == \"o\" or char == \"u\" or char == \"A\":\n",
    "      print(char)"
   ]
  },
  {
   "cell_type": "markdown",
   "metadata": {},
   "source": [
    "**Level Two Challenge**"
   ]
  },
  {
   "cell_type": "code",
   "execution_count": 8,
   "metadata": {},
   "outputs": [
    {
     "name": "stdout",
     "output_type": "stream",
     "text": [
      "Parav and Nikhil won the match\n"
     ]
    }
   ],
   "source": [
    "array = []\n",
    "array.append(\"Parav\")\n",
    "array.append(\"Nikhil\")\n",
    "if len(array) == 0:\n",
    "   print(\"We lost the game\")\n",
    "else:\n",
    "   print(\" and \".join(array) + \" won the match\")"
   ]
  },
  {
   "cell_type": "markdown",
   "metadata": {},
   "source": [
    "**Nested Statements**"
   ]
  },
  {
   "cell_type": "code",
   "execution_count": 9,
   "metadata": {},
   "outputs": [
    {
     "name": "stdout",
     "output_type": "stream",
     "text": [
      "Wear multiple layers.\n"
     ]
    }
   ],
   "source": [
    "isRaining = True\n",
    "temp = 69\n",
    "if (isRaining):\n",
    "   if temp <  70 :\n",
    "      print(\"Wear multiple layers.\")\n",
    "   else:\n",
    "      print(\"Wear a single layer\")\n",
    "else:\n",
    "   print(\"What is the weather like?\")"
   ]
  },
  {
   "cell_type": "code",
   "execution_count": 10,
   "metadata": {},
   "outputs": [
    {
     "name": "stdout",
     "output_type": "stream",
     "text": [
      "Wear multiple layers.\n"
     ]
    }
   ],
   "source": [
    "isRaining = True\n",
    "temp = 50\n",
    "if (isRaining):\n",
    "   if temp <  70:\n",
    "      print(\"Wear multiple layers.\")\n",
    "   else:\n",
    "      print(\"Wear a single layer\")\n",
    "else:\n",
    "   if isRaining == False:\n",
    "      print(\"is it sunny or rainy?\")\n",
    "   else: \n",
    "      print(\"what is the weather like?\")"
   ]
  },
  {
   "cell_type": "code",
   "execution_count": 12,
   "metadata": {},
   "outputs": [
    {
     "name": "stdout",
     "output_type": "stream",
     "text": [
      "You should play fantasy basketball with us.\n"
     ]
    }
   ],
   "source": [
    "input1 = input(\"Do you keep up with basketball?\")\n",
    "input2 = input(\"Do you play fantasy?\")\n",
    "if input1 == \"yes\":\n",
    "   if input2 == \"yes\":\n",
    "      print(\"You should play fantasy basketball with us.\")\n",
    "   else:\n",
    "      print(\"You should talk about basketball with us.\")\n",
    "else :\n",
    "   print(\"Seems like fantasy basketball isn't a common interest for us.\")"
   ]
  },
  {
   "cell_type": "markdown",
   "metadata": {},
   "source": [
    "# Lessons 8 and 10"
   ]
  },
  {
   "cell_type": "markdown",
   "metadata": {},
   "source": [
    "Notes: \n",
    "- Lists are a sequence of variables\n",
    "- Index: a term used to sort data in order to reference to an element in a list (allows for duplicates)\n",
    "- Elements: the values in the list assigned to an index\n",
    "- 9 different methods in list\n",
    "- Iteration is the repetition of a process or utterance applied to the result or taken from a previous statement.\n",
    "- Lists, tuples, dictionaries, and sets are iterable objects.\n",
    "- 2D array is a list of lists, simply"
   ]
  },
  {
   "cell_type": "code",
   "execution_count": 13,
   "metadata": {},
   "outputs": [
    {
     "name": "stdout",
     "output_type": "stream",
     "text": [
      "['football', 'hockey', 'baseball', 'basketball']\n"
     ]
    }
   ],
   "source": [
    "sports = [\"football\", \"hockey\", \"baseball\", \"basketball\"]\n",
    "\n",
    "# change the value \"soccer\" to \"hockey\"\n",
    "print (sports)"
   ]
  },
  {
   "cell_type": "code",
   "execution_count": 14,
   "metadata": {},
   "outputs": [
    {
     "name": "stdout",
     "output_type": "stream",
     "text": [
      "['football', 'soccer', 'baseball', 'golf', 'basketball']\n"
     ]
    }
   ],
   "source": [
    "sports = [\"football\", \"soccer\", \"baseball\", \"basketball\"]\n",
    "\n",
    "# add \"golf\" as the 3rd element in the list\n",
    "sports.insert(3, \"golf\")\n",
    "print (sports)"
   ]
  },
  {
   "cell_type": "markdown",
   "metadata": {},
   "source": [
    "## Hacks 1"
   ]
  },
  {
   "cell_type": "code",
   "execution_count": 15,
   "metadata": {},
   "outputs": [
    {
     "name": "stdout",
     "output_type": "stream",
     "text": [
      "parav\n",
      "papa\n",
      "alfa\n",
      "romeo\n",
      "alfa\n",
      "victor\n"
     ]
    }
   ],
   "source": [
    "words = [\"alfa\", \"bravo\", \"charlie\", \"delta\", \"echo\", \"foxtrot\", \"golf\", \"hotel\", \"india\", \"juliett\", \"kilo\",\n",
    "\"lima\", \"mike\", \"november\", \"oscar\", \"papa\", \"quebec\", \"romeo\", \"sierra\", \"tango\", \"uniform\", \"victor\", \"whiskey\", \"xray\", \"yankee\", \"zulu\"]\n",
    "\n",
    "inp = input().lower()\n",
    "print(inp)\n",
    "for i in range(len(inp)):\n",
    "    for j in range(len(words)):\n",
    "        if j in range(len(words)):\n",
    "            if inp[i] == words[j][0]:\n",
    "                print(words[j])"
   ]
  },
  {
   "cell_type": "markdown",
   "metadata": {},
   "source": [
    "## Hacks 2"
   ]
  },
  {
   "cell_type": "code",
   "execution_count": 17,
   "metadata": {},
   "outputs": [
    {
     "name": "stdout",
     "output_type": "stream",
     "text": [
      "1 2 3\n",
      "4 5 6\n",
      "7 8 9\n",
      "  0  \n"
     ]
    }
   ],
   "source": [
    "keypad =   [[1, 2, 3],\n",
    "            [4, 5, 6],\n",
    "            [7, 8, 9],\n",
    "            [\" \", 0, \" \"]]\n",
    "\n",
    "def print_matrix3(matrix):\n",
    "    for i in range(len(matrix)):\n",
    "        print(*matrix[i])\n",
    "\n",
    "print_matrix3(keypad)"
   ]
  },
  {
   "cell_type": "markdown",
   "metadata": {},
   "source": [
    "## Hacks 3"
   ]
  },
  {
   "cell_type": "code",
   "execution_count": 27,
   "metadata": {},
   "outputs": [
    {
     "name": "stdout",
     "output_type": "stream",
     "text": [
      "My birthday is May 16\n"
     ]
    }
   ],
   "source": [
    "keyboard = [[\"`\", 1, 2, 3, 4, 5, 6, 7, 8, 9, 0, \"-\", \"=\"],\n",
    "            [\"Q\", \"W\", \"E\", \"R\", \"T\", \"Y\", \"U\", \"I\", \"O\", \"P\", \"[\", \"]\"],\n",
    "            [\"A\", \"S\", \"D\", \"F\", \"G\", \"H\", \"J\", \"K\", \"L\", \";\", \"'\"],\n",
    "            [\"Z\", \"X\", \"C\", \"V\", \"B\", \"N\", \"M\", \",\", \".\", \"/\"]]\n",
    "print(\"My birthday is\", keyboard[3][6] + keyboard[2][0].lower() + keyboard[1][5].lower() , str(keyboard[0][1]) + str(keyboard[0][6]))\n",
    "    \n",
    " "
   ]
  },
  {
   "cell_type": "markdown",
   "metadata": {},
   "source": [
    "# Lessons 9 and 11\n",
    "Notes:\n",
    "- An algorithm is a process or set of rules to be followed through code.\n",
    "- When constructing algorithms you want to make sure that your code corresponds with what you want as your output.\n",
    "- The condition is a boolean expression when an expression outputs either true or false.\n",
    "- Booleans only output true or false to statements\n",
    "- The best way to develop an algorithm is to think about all the possible results that can be potentially be outputted. \n",
    "- Flowcharts help in organizing a way to write your code logically\n",
    "- Iteration is a process used in algorithms that allows certain things to happen until a condition is satisfied\n",
    "\n",
    "## Homework"
   ]
  },
  {
   "cell_type": "code",
   "execution_count": 42,
   "metadata": {},
   "outputs": [
    {
     "name": "stdout",
     "output_type": "stream",
     "text": [
      "3 random generated numbers\n",
      "4 10 18\n",
      " \n",
      "The highest number(score):\n",
      "18\n"
     ]
    }
   ],
   "source": [
    "import random\n",
    "\n",
    "num1 = random.randint(1, 20) \n",
    "num2 = random.randint(1, 20)\n",
    "num3 = random.randint(1, 20)\n",
    "# generates 3 random numbers, 1-20\n",
    "\n",
    "highest = max(num1, num2, num3) #finds the maximum number out of the 3 numbers\n",
    "\n",
    "score = highest #makes the highest number your score\n",
    "\n",
    "print(\"3 random generated numbers\")\n",
    "print(num1, num2, num3) # prints out all 3 numbers\n",
    "print(\" \") # creates a space of line, makes it easier to read\n",
    "print(\"The highest number(score):\")\n",
    "print(score) #prints out the score (the highest number)"
   ]
  },
  {
   "cell_type": "markdown",
   "metadata": {},
   "source": [
    "## Hacks 2\n",
    "\n",
    "Link to flowchart can be found linked [here](https://docs.google.com/drawings/d/1hjomy-cq-joCKcE7Z0sK9uJ8ErCpuQ8AJh2jblfaYqc/edit?usp=sharing)"
   ]
  },
  {
   "cell_type": "markdown",
   "metadata": {},
   "source": [
    "# Lessons 12 and 13\n",
    "\n",
    "Notes:\n",
    "- A procedure is a named group of programming instructions that may have parameters and return values.\n",
    "- Arguments specify the values of the parameters when procedure is called.\n",
    "- A procedure call interrupts the sequential execution of statements causing the program to execute the statements within the procedure before continuing.\n",
    "- If the procedure just returns a block of statements, you call the procedure by referring to the procedure name, and inputting the arguments.\n",
    "- There are 2 different types of procedures- ones that return a value and those that simply execute a block of statements\n",
    "- Picking a descriptive name is important in case you revisit the code later on\n",
    "- Steps of developing procedure: picking name, thinking of parameters, making a flowchart or writing procedure in pseudocode, and actually developing the procedure.\n",
    "- A type of procedural abstraction is one which provides a name for a process and allows a procedure to be used only knowing what it does and not how it does it\n",
    "- Subdivision of a program into separate subprograms is called modularity\n",
    "- A procedural abstraction may extract shared features to generalize functionality instead of duplicating code. \n",
    "- Procedural abstraction is naming and calling a prewritten procedure\n",
    "\n",
    "## Hacks 1"
   ]
  },
  {
   "cell_type": "code",
   "execution_count": 4,
   "metadata": {},
   "outputs": [
    {
     "data": {
      "text/plain": [
       "20.555555555555557"
      ]
     },
     "execution_count": 4,
     "metadata": {},
     "output_type": "execute_result"
    }
   ],
   "source": [
    "def convertFahrenheit(temp):\n",
    "    celsius = temp - 32\n",
    "    celsius *= 5/9\n",
    "    return celsius\n",
    "\n",
    "outsideTemp = 69\n",
    "convertFahrenheit(outsideTemp)"
   ]
  },
  {
   "cell_type": "markdown",
   "metadata": {},
   "source": [
    "## Hacks 2"
   ]
  },
  {
   "cell_type": "code",
   "execution_count": 9,
   "metadata": {},
   "outputs": [
    {
     "data": {
      "text/plain": [
       "95"
      ]
     },
     "execution_count": 9,
     "metadata": {},
     "output_type": "execute_result"
    }
   ],
   "source": [
    "def replaceGrade(currentGrade, newGrade):\n",
    "    if currentGrade < newGrade:\n",
    "        currentGrade = newGrade\n",
    "    return currentGrade\n",
    "\n",
    "replaceGrade(92, 95)"
   ]
  },
  {
   "cell_type": "markdown",
   "metadata": {},
   "source": [
    "## Hacks 3\n",
    "\n",
    "This code below is a final grade calculator. Enter values as percentages."
   ]
  },
  {
   "cell_type": "code",
   "execution_count": 29,
   "metadata": {},
   "outputs": [
    {
     "name": "stdout",
     "output_type": "stream",
     "text": [
      "Your current grade is: 94.0\n",
      "The final exam weight is: 20.0\n",
      "Your desired grade is: 90.0\n",
      "You need to get a grade of 74.00000000000001% on the final exam.\n"
     ]
    }
   ],
   "source": [
    "def grade_needed(current_grade, final_grade_weight, desired_grade):\n",
    "\n",
    "  current_grade /= 100\n",
    "  final_grade_weight /= 100\n",
    "  desired_grade /= 100\n",
    "  return (desired_grade - current_grade * (1 - final_grade_weight)) / final_grade_weight\n",
    "\n",
    "current_grade = float(input(\"Enter your current grade as a percentage: \"))\n",
    "final_grade_weight = float(input(\"Enter the weight of the final exam as a percentage: \"))\n",
    "desired_grade = float(input(\"Enter your desired overall grade as a percentage: \"))\n",
    "\n",
    "grade_needed = grade_needed(current_grade, final_grade_weight, desired_grade)\n",
    "print(\"Your current grade is: \" + str(current_grade))\n",
    "print(\"The final exam weight is: \" + str(final_grade_weight))\n",
    "print(\"Your desired grade is: \" + str(desired_grade))\n",
    "print(f\"You need to get a grade of {grade_needed * 100}% on the final exam.\")"
   ]
  },
  {
   "cell_type": "markdown",
   "metadata": {},
   "source": [
    "### Additional Code (for fun)\n",
    "This code below will let a user input as many assignments needed to complete. Input the word \"done\" once you are done listing."
   ]
  },
  {
   "cell_type": "code",
   "execution_count": 14,
   "metadata": {},
   "outputs": [
    {
     "name": "stdout",
     "output_type": "stream",
     "text": [
      "Here is your checklist:\n",
      "['math hw', 'chem pogil', 'comp sci hacks', '3d animation catch up', 'history newspaper']\n"
     ]
    }
   ],
   "source": [
    "def create_checklist():\n",
    "\n",
    "  checklist = []\n",
    "  while True:\n",
    "    assignment = input(\"Enter an assignment (or 'done' to finish): \")\n",
    "    if assignment == \"done\":\n",
    "      break\n",
    "    checklist.append(assignment)\n",
    "  return checklist\n",
    "\n",
    "checklist = create_checklist()\n",
    "print(\"Here is your checklist:\")\n",
    "print(checklist)\n"
   ]
  }
 ],
 "metadata": {
  "kernelspec": {
   "display_name": "Python 3.9.12 ('base')",
   "language": "python",
   "name": "python3"
  },
  "language_info": {
   "codemirror_mode": {
    "name": "ipython",
    "version": 3
   },
   "file_extension": ".py",
   "mimetype": "text/x-python",
   "name": "python",
   "nbconvert_exporter": "python",
   "pygments_lexer": "ipython3",
   "version": "3.9.12"
  },
  "orig_nbformat": 4,
  "vscode": {
   "interpreter": {
    "hash": "96f69acf6371036039da9dab57426e1e0bed158c3064edb22ccc4f88f96e21fe"
   }
  }
 },
 "nbformat": 4,
 "nbformat_minor": 2
}
