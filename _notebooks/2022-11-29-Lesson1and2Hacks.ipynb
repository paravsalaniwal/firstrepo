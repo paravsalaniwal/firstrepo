{
 "cells": [
  {
   "cell_type": "markdown",
   "metadata": {},
   "source": [
    "# \"Lesson 1 and 2 Hacks\"\n",
    "\n",
    "- toc: true\n",
    "- comments: true\n",
    "- layout: post\n",
    "- author: Parav Salaniwal"
   ]
  },
  {
   "cell_type": "markdown",
   "metadata": {},
   "source": [
    "Notes: \n",
    "- A variable is an abstraction inside a program that holds a value, where each variable has associated data storage that represents a single value at a time (However, if the value is a collection type such as a list, then the value can contain multiple values).\n",
    "- Variables can be seen as \"containers\" and each container has a name that holds what it is supposed to hold.\n",
    "- Variables have different data types that store specific kinds of data depending on what is being represented.\n",
    "\n",
    "## Hacks 1\n",
    "Questions (College Board's Essential Knowledge):\n",
    "1. What exactly IS a variable?\n",
    "   - A variable is an abstraction inside a program that holds a value, where each variable has associated data storage that represents a single value at a time.\n",
    "2. What is the best data type to represent someone's dog's name?\n",
    "   - A string\n",
    "3. Why is it important to give variables specific names before containing values?\n",
    "   - So that they have an appropriate name to the value which will be contained.\n",
    "4. What is the best way to represent someone's phone number?\n",
    "   - The best way is to use a string to make sure the numbers don't interfere with the code.\n",
    "\n",
    "Bonus (Not required but important to know): \n",
    "1. How can we update a variable's value\n",
    "   - Using + or - for incrementing or decrementing\n",
    "2. What function is used to receive a user's input?\n",
    "   - input()\n",
    "\n",
    "\n",
    "## Hacks 2\n",
    "Answer these:\n",
    "1. In your **own** words, briefly explain by writing down what an assignment operator is\n",
    "   - The assignment operator is the equal sign (=) which allows to assign elements of code to a value.\n",
    "2. In Collegeboard pseudocode, what symbol is used to assign values to variables?\n",
    "   - <--\n",
    "3. A variable, x, is initially given a value of 15. Later on, the value for x is changed to 22. If you print x, would the command display 15 or 22?\n",
    "   - The command would display 22.\n",
    "\n",
    "## Hacks 3\n",
    "1. What is a list?\n",
    "   - A sequence of elements with each element being a variable.\n",
    "2. What is an element\n",
    "   - The items inside of a list.\n",
    "3. What is an easy way to reference the elements in a list or string?\n",
    "   - using print()\n",
    "4. What is an example of a string?\n",
    "   - Phone number\n",
    "\n",
    "* Create a list with indices \n",
    "* Index a part of the list that you created.\n",
    "* Try to index from the end "
   ]
  },
  {
   "cell_type": "code",
   "execution_count": 2,
   "metadata": {},
   "outputs": [
    {
     "name": "stdout",
     "output_type": "stream",
     "text": [
      "Parav\n",
      "Nikhil\n"
     ]
    }
   ],
   "source": [
    "NamesList = [\"Taiyo\", \"Luna\", \"Parav\", \"Ethan\", \"Nikhil\"]\n",
    "print(NamesList[2])\n",
    "print(NamesList[4])"
   ]
  },
  {
   "cell_type": "markdown",
   "metadata": {},
   "source": [
    "The following code is incomplete. Its intended purpose is to increase three numbers, all of which ask for user input, by an amount specified the user. The input code is abstracted, but the actual logic isn’t connected to the abstraction."
   ]
  },
  {
   "cell_type": "code",
   "execution_count": 4,
   "metadata": {},
   "outputs": [
    {
     "name": "stdout",
     "output_type": "stream",
     "text": [
      "User submitted numbers [2, 4, 6]\n",
      "Plus 8\n",
      "Result:  [10, 12, 14]\n"
     ]
    }
   ],
   "source": [
    "num1=input(\"Input a number. \")\n",
    "num2=input(\"Input a number. \")\n",
    "num3=input(\"Input a number. \")\n",
    "add=input(\"How much would you like to add? \")\n",
    "\n",
    "# Add code in the space below\n",
    "\n",
    "numlist = [int(num1), int(num2), int(num3)]\n",
    "print(\"User submitted numbers\", numlist)\n",
    "print(\"Plus \" + add)\n",
    "\n",
    "# The following is the code that adds the inputted addend to the other numbers. It is hidden from the user.\n",
    "\n",
    "for i in range (len(numlist)):\n",
    "    numlist[i-1] += int(add)\n",
    "\n",
    "print(\"Result: \", numlist)"
   ]
  },
  {
   "cell_type": "code",
   "execution_count": 5,
   "metadata": {},
   "outputs": [
    {
     "name": "stdout",
     "output_type": "stream",
     "text": [
      "['pizza', 'pasta', 'sandwich', 'burger', 'soup']\n"
     ]
    }
   ],
   "source": [
    "foodlist = [\"pizza\", \"pasta\", \"sandwich\", \"burger\", \"soup\"]\n",
    "print(foodlist)"
   ]
  },
  {
   "cell_type": "code",
   "execution_count": 7,
   "metadata": {},
   "outputs": [
    {
     "name": "stdout",
     "output_type": "stream",
     "text": [
      "Hello, parav running /Library/Developer/CommandLineTools/usr/bin/python3\n",
      "You will be asked 3 questions.\n",
      "Question: Are you ready to take a test?\n",
      "Question: The purpose of lists and dictionaries are to manage the ____ of a program\n",
      "complexity is correct!\n",
      "Question: Lists are a form of data ______\n",
      "abstraction is correct!\n",
      "Question: Which brackets are used to assign values to a variable to make a list?\n",
      "[] is correct!\n",
      "parav you scored 3/3\n"
     ]
    }
   ],
   "source": [
    "import getpass, sys\n",
    "\n",
    "def question_with_response(prompt):\n",
    "    print(\"Question: \" + prompt)\n",
    "    msg = input()\n",
    "    return msg\n",
    "\n",
    "questions = 3\n",
    "correct = 0\n",
    "\n",
    "print('Hello, ' + getpass.getuser() + \" running \" + sys.executable)\n",
    "print(\"You will be asked \" + str(questions) + \" questions.\")\n",
    "question_with_response(\"Are you ready to take a test?\")\n",
    "\n",
    "rsp = question_with_response(\"The purpose of lists and dictionaries are to manage the ____ of a program\")\n",
    "if rsp == \"complexity\":\n",
    "    print(rsp + \" is correct!\")\n",
    "    correct += 1\n",
    "else:\n",
    "    print(rsp + \" is incorrect!\")\n",
    "\n",
    "rsp = question_with_response(\"Lists are a form of data ______\")\n",
    "if rsp == \"abstraction\":\n",
    "    print(rsp + \" is correct!\")\n",
    "    correct += 1\n",
    "else:\n",
    "    print(rsp + \" is incorrect!\")\n",
    "\n",
    "rsp = question_with_response(\"Which brackets are used to assign values to a variable to make a list?\")\n",
    "if rsp == \"[]\":\n",
    "    print(rsp + \" is correct!\")\n",
    "    correct += 1\n",
    "else:\n",
    "    print(rsp + \" is incorrect!\") \n",
    "\n",
    "print(getpass.getuser() + \" you scored \" + str(correct) +\"/\" + str(questions))"
   ]
  }
 ],
 "metadata": {
  "kernelspec": {
   "display_name": "Python 3.9.6 64-bit",
   "language": "python",
   "name": "python3"
  },
  "language_info": {
   "codemirror_mode": {
    "name": "ipython",
    "version": 3
   },
   "file_extension": ".py",
   "mimetype": "text/x-python",
   "name": "python",
   "nbconvert_exporter": "python",
   "pygments_lexer": "ipython3",
   "version": "3.9.6"
  },
  "orig_nbformat": 4,
  "vscode": {
   "interpreter": {
    "hash": "31f2aee4e71d21fbe5cf8b01ff0e069b9275f58929596ceb00d14d90e3e16cd6"
   }
  }
 },
 "nbformat": 4,
 "nbformat_minor": 2
}
