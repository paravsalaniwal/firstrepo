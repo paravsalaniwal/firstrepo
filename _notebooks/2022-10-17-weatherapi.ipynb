{
 "cells": [
  {
   "cell_type": "markdown",
   "metadata": {},
   "source": [
    "# Weather API\n",
    "\n",
    "- toc: true\n",
    "- permalink: /2022/10/17/weather/"
   ]
  },
  {
   "cell_type": "code",
   "execution_count": 1,
   "metadata": {},
   "outputs": [
    {
     "name": "stdout",
     "output_type": "stream",
     "text": [
      "{\"success\":true,\"error\":null,\"response\":[{\"timestamp\":1665954000,\"dateTimeISO\":\"2022-10-17T00:00:00+03:00\",\"loc\":{\"lat\":39.91987,\"long\":32.85427},\"place\":{\"name\":\"ankara\",\"state\":\"an\",\"country\":\"tr\"},\"profile\":{\"tz\":\"Europe\\/Istanbul\"},\"sun\":{\"rise\":1665979258,\"riseISO\":\"2022-10-17T07:00:58+03:00\",\"set\":1666019216,\"setISO\":\"2022-10-17T18:06:56+03:00\",\"transit\":1665999237,\"transitISO\":\"2022-10-17T12:33:57+03:00\",\"midnightSun\":false,\"polarNight\":false,\"twilight\":{\"civilBegin\":1665977625,\"civilBeginISO\":\"2022-10-17T06:33:45+03:00\",\"civilEnd\":1666020849,\"civilEndISO\":\"2022-10-17T18:34:09+03:00\",\"nauticalBegin\":1665975740,\"nauticalBeginISO\":\"2022-10-17T06:02:20+03:00\",\"nauticalEnd\":1666022733,\"nauticalEndISO\":\"2022-10-17T19:05:33+03:00\",\"astronomicalBegin\":1665973862,\"astronomicalBeginISO\":\"2022-10-17T05:31:02+03:00\",\"astronomicalEnd\":1666024611,\"astronomicalEndISO\":\"2022-10-17T19:36:51+03:00\"}},\"moon\":{\"rise\":1666038240,\"riseISO\":\"2022-10-17T23:24:00+03:00\",\"set\":1666005480,\"setISO\":\"2022-10-17T14:18:00+03:00\",\"transit\":1665977040,\"transitISO\":\"2022-10-17T06:24:00+03:00\",\"underfoot\":1666021800,\"underfootISO\":\"2022-10-17T18:50:00+03:00\",\"phase\":{\"phase\":0.7248,\"name\":\"waning gibbous\",\"illum\":58,\"age\":21.4,\"angle\":0.49}}}]}\n"
     ]
    }
   ],
   "source": [
    "import requests\n",
    "\n",
    "url = \"https://weatherapi-com.p.rapidapi.com/future.json\"\n",
    "\n",
    "querystring = {\"q\":\"London\",\"dt\":\"2022-12-25\"}\n",
    "\n",
    "headers = {\n",
    "\t\"X-RapidAPI-Key\": \"f2586bd8c7mshe64d56ce3a69011p10e170jsn51b21e88070f\",\n",
    "\t\"X-RapidAPI-Host\": \"weatherapi-com.p.rapidapi.com\"\n",
    "}\n",
    "\n",
    "response = requests.request(\"GET\", url, headers=headers, params=querystring)\n",
    "\n",
    "print(response.text)"
   ]
  }
 ],
 "metadata": {
  "kernelspec": {
   "display_name": "Python 3.9.6 64-bit",
   "language": "python",
   "name": "python3"
  },
  "language_info": {
   "codemirror_mode": {
    "name": "ipython",
    "version": 3
   },
   "file_extension": ".py",
   "mimetype": "text/x-python",
   "name": "python",
   "nbconvert_exporter": "python",
   "pygments_lexer": "ipython3",
   "version": "3.9.6"
  },
  "orig_nbformat": 4,
  "vscode": {
   "interpreter": {
    "hash": "31f2aee4e71d21fbe5cf8b01ff0e069b9275f58929596ceb00d14d90e3e16cd6"
   }
  }
 },
 "nbformat": 4,
 "nbformat_minor": 2
}
