{
 "cells": [
  {
   "cell_type": "markdown",
   "metadata": {},
   "source": [
    "# Parav's Quiz\n",
    "> A tutorial of fastpages for Jupyter notebooks.\n",
    "\n",
    "- toc: true \n",
    "- badges: true\n",
    "- comments: true\n",
    "- categories: [jupyter]\n",
    "- image: images/chart-preview.png"
   ]
  },
  {
   "cell_type": "code",
   "execution_count": 16,
   "metadata": {},
   "outputs": [
    {
     "name": "stdout",
     "output_type": "stream",
     "text": [
      "Hello, parav running /Library/Developer/CommandLineTools/usr/bin/python3\n",
      "You will be asked 6 questions.\n",
      "Question: Are you ready to take a test?\n",
      "Great, here is your first question!\n",
      "Question: What command is used to include other functions that are developed?\n",
      "import is correct!\n",
      "Question: What command in this example is used to evaluate a response?\n",
      "if is correct!\n",
      "Question: Each 'if' command contains an '_________' to determine a true or false condition?\n",
      "expression is correct!\n",
      "Question: Grouping a sequence of commands is called _____ _____.\n",
      "procedural abstraction is correct!\n",
      "Question: What is the command for a string concatenation?\n",
      "+ is correct!\n",
      "Question: What can be found below the code cell in Jupyter notebook?\n",
      "outputis correct!\n",
      "parav you scored 6/6, you received a 100.0%\n"
     ]
    }
   ],
   "source": [
    "import getpass, sys\n",
    "from multiprocessing.resource_sharer import stop\n",
    "\n",
    "def question_and_answer(prompt):\n",
    "    print(\"Question: \" + prompt)\n",
    "    msg = input()\n",
    "    print(\"Answer: \" + msg)\n",
    "    \n",
    "def question_with_response(prompt):\n",
    "    print(\"Question: \" + prompt)\n",
    "    msg = input()\n",
    "    return msg\n",
    "\n",
    "questions = 6\n",
    "correct = 0\n",
    "\n",
    "print('Hello, ' + getpass.getuser() + \" running \" + sys.executable)\n",
    "print(\"You will be asked \" + str(questions) + \" questions.\")\n",
    "rsp = question_with_response(\"Are you ready to take a test?\")\n",
    "if rsp == \"yes\":\n",
    "    print(\"Great, here is your first question!\")\n",
    "else:\n",
    "    print(\"Okay, come back when you're ready...\")\n",
    "    sys.exit()\n",
    "\n",
    "rsp = question_with_response(\"What command is used to include other functions that are developed?\")\n",
    "if rsp == \"import\":\n",
    "    print(rsp + \" is correct!\")\n",
    "    correct += 1\n",
    "else:\n",
    "    print(rsp + \" is incorrect!\")\n",
    "    print(\"'import' was the correct answer.\")\n",
    "\n",
    "rsp = question_with_response(\"What command in this example is used to evaluate a response?\")\n",
    "if rsp == \"if\":\n",
    "    print(rsp + \" is correct!\")\n",
    "    correct += 1\n",
    "else:\n",
    "    print(rsp + \" is incorrect!\")\n",
    "    print(\"'if' was the correct answer.\")\n",
    "\n",
    "\n",
    "rsp = question_with_response(\"Each 'if' command contains an '_________' to determine a true or false condition?\")\n",
    "if rsp == \"expression\":\n",
    "    print(rsp + \" is correct!\")\n",
    "    correct += 1\n",
    "else:\n",
    "    print(rsp + \" is incorrect!\")\n",
    "    print(\"'expression' was the correct answer.\")\n",
    "\n",
    "rsp = question_with_response(\"Grouping a sequence of commands is called _____ _____.\")\n",
    "if rsp == \"procedural abstraction\":\n",
    "    print(rsp + \" is correct!\")\n",
    "    correct += 1\n",
    "else:\n",
    "    print(rsp + \" is incorrect!\")\n",
    "    print(\"'procedural abstraction' was the correct answer.\")\n",
    "\n",
    "rsp = question_with_response(\"What is the command for a string concatenation?\")\n",
    "if rsp == \"+\":\n",
    "    print(rsp + \" is correct!\")\n",
    "    correct += 1\n",
    "else:\n",
    "    print(rsp + \" is incorrect!\")\n",
    "    print(\"'+' was the correct answer.\")\n",
    "\n",
    "rsp = question_with_response(\"What can be found below the code cell in Jupyter notebook?\")\n",
    "if rsp == \"output\":\n",
    "    print(rsp + \" is correct!\")\n",
    "    correct += 1\n",
    "else:\n",
    "    print(rsp + \" is incorrect!\")\n",
    "    print(\"'output' was the correct answer.\")\n",
    "\n",
    "print(getpass.getuser() + \" you scored \" + str(correct) +\"/\" + str(questions) + \", you received a \" + str((correct/questions)*100) + \"%\")"
   ]
  }
 ],
 "metadata": {
  "kernelspec": {
   "display_name": "Python 3.8.9 64-bit",
   "language": "python",
   "name": "python3"
  },
  "language_info": {
   "codemirror_mode": {
    "name": "ipython",
    "version": 3
   },
   "file_extension": ".py",
   "mimetype": "text/x-python",
   "name": "python",
   "nbconvert_exporter": "python",
   "pygments_lexer": "ipython3",
   "version": "3.9.6"
  },
  "orig_nbformat": 4,
  "vscode": {
   "interpreter": {
    "hash": "31f2aee4e71d21fbe5cf8b01ff0e069b9275f58929596ceb00d14d90e3e16cd6"
   }
  }
 },
 "nbformat": 4,
 "nbformat_minor": 2
}
