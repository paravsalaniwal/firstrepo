{
 "cells": [
  {
   "attachments": {},
   "cell_type": "markdown",
   "metadata": {},
   "source": [
    "# SASS"
   ]
  },
  {
   "attachments": {},
   "cell_type": "markdown",
   "metadata": {},
   "source": [
    "# Why SASS?\n",
    "\n",
    "SASS is an improvement on CSS in that there are methods of abstraction. It is a stylesheet language that is compiled into CSS, which means that Sass will translate the Sass code you wrote into CSS, which is what your web browser can read.\n",
    "\n",
    "# SASS vs SCSS\n",
    "As you learn about Sass, you might notice something called Scss. They are basically the same thing except that Scss uses curly braces and semicolons to distinguish between lines. Sass uses indentation and newlines instead.\n",
    "\n",
    "We will be teaching the Scss syntax because it is more commonly used."
   ]
  },
  {
   "attachments": {},
   "cell_type": "markdown",
   "metadata": {},
   "source": [
    "# Getting started\n",
    "\n",
    "A easy way to write SASS and have it preprocessed into CSS is by using a Jekyll powered website, such as GitHub pages or Fastpages.\n",
    "\n",
    "The first step is to clone a GitHub pages repo, such as this [one](https://github.com/lwu1822/sassy_squad).\n",
    "\n",
    "Within the repository, head over to `assets/css/`, and open `style.scss`.\n",
    "\n",
    "This is where you can create your SASS code.\n",
    "\n",
    "To see your CSS-translated SASS code, head over to `_site/assets/css/style.css`\n",
    "\n",
    "Note: You will need to run bundle exec jekyll serve before the _site directory appears.\n",
    "\n",
    "The first few hundred lines are used to style Github's theme. Make sure to scroll to the very bottom to see the SASS code that you wrote, which is in the form of CSS."
   ]
  },
  {
   "attachments": {},
   "cell_type": "markdown",
   "metadata": {},
   "source": [
    "# Nesting\n",
    "\n",
    "- The same element may be shared by several separate selectors and objects.\n",
    "- You can write the styling code in a heirarchy by using nesting.\n"
   ]
  },
  {
   "attachments": {},
   "cell_type": "markdown",
   "metadata": {},
   "source": [
    "# Mini-hack\n",
    "\n",
    "Write out the SASS equivalent for the following CSS code:\n",
    "\n",
    "```\n",
    ".a .b {\n",
    "    color: green;\n",
    "}\n",
    "\n",
    ".a .c {\n",
    "    color: blue;\n",
    "}\n",
    "```\n",
    "SASS:\n",
    "```\n",
    ".a {\n",
    "    .b {\n",
    "    color: green;\n",
    "\n",
    "    .c {\n",
    "    color: blue;\n",
    "}}}\n",
    "```"
   ]
  },
  {
   "attachments": {},
   "cell_type": "markdown",
   "metadata": {},
   "source": [
    "# Extend/Inheritance\n",
    "\n",
    "What are some similarities that the buttons share? What are the differences?\n",
    "\n",
    "- The width and height of each button are the same.\n",
    "- Additionally, the font size and color are identical.\n",
    "- The button spacing is likewise comparable.\n",
    "- The buttons' backgrounds have various hues.\n"
   ]
  },
  {
   "attachments": {},
   "cell_type": "markdown",
   "metadata": {},
   "source": [
    "# Mixin\n",
    "\n",
    "- generates a reusable code template\n",
    "- can also accept parameters, allowing for the use of dynamic styling\n",
    "- ```@mixin``` is used to create a mixin, and @include is used to call it.\n"
   ]
  },
  {
   "attachments": {},
   "cell_type": "markdown",
   "metadata": {},
   "source": [
    "# Mini-hack\n",
    "\n",
    "Write out a mixin in SASS that takes in a color and a font size as the parameter. Within the mixin, set the background color and font color to the color parameter, and set the font size to the font size parameter. Then create a selector that calls the mixin, and pass in a color and font size of your choice as the arguments."
   ]
  },
  {
   "attachments": {},
   "cell_type": "markdown",
   "metadata": {},
   "source": [
    "```\n",
    "@mixin color-and-font($color, $font-size) {\n",
    "  background-color: $color;\n",
    "  color: $color;\n",
    "  font-size: $font-size;\n",
    "}\n",
    ".my-class {\n",
    "  @include color-and-font(#008000, 16px);\n",
    "}\n",
    "```"
   ]
  },
  {
   "attachments": {},
   "cell_type": "markdown",
   "metadata": {},
   "source": [
    "# Function\n",
    "\n",
    "- can be produced using @function in SASS.\n",
    "- It has the same format as a Python function, functionName(Parameters).\n",
    "- Additionally, brackets should follow, just like in a JavaScript function.\n",
    "- by including the function name in parenthesis when calling them.\n",
    "  - Define the arguments that the function will accept as parameters between parenthesis.\n"
   ]
  },
  {
   "attachments": {},
   "cell_type": "markdown",
   "metadata": {},
   "source": [
    "# Import\n",
    "\n",
    "- Code written in SASS can be imported into one file from numerous files.\n",
    "- Make a directory called \"_sass\", for instance.\n",
    "- Here, you can generate numerous files, including 'style.scss' and 'color.scss'\n",
    "Use the command ```@import \"style\"``` to import the code from 'style.scss' into 'color.scss'.\n",
    "There must be quotation marks around the function name and the '.scss' is not required.\n"
   ]
  },
  {
   "attachments": {},
   "cell_type": "markdown",
   "metadata": {},
   "source": [
    "# SASS Hacks\n",
    "\n",
    "1. Take notes and complete the mini-hacks. (0.9)\n",
    "\n",
    "2. Complete the [quiz questions](https://lwu1822.github.io/sassy_squad/quizQuestions) and provide your answers in this notebook. (0.9)\n",
    "\n",
    "3. Use SASS to create something that uses either extend or mixin. (0.9)\n",
    "\n",
    "4. Extra credit: Research other SASS features and blog about what you learned or add to your SASS project with any extra features not covered in this lesson. More points will be given if both are done."
   ]
  },
  {
   "attachments": {},
   "cell_type": "markdown",
   "metadata": {},
   "source": [
    "1. B\n",
    "2. A\n",
    "3. C\n",
    "4. B\n",
    "5. D\n",
    "6. B\n",
    "7. B"
   ]
  },
  {
   "attachments": {},
   "cell_type": "markdown",
   "metadata": {},
   "source": [
    "Variables:\n",
    "- permits users to specify values\n",
    "- is useful for specifying things like colors, font sizes, margins, padding values, and more.\n",
    "\n",
    "**Partial SASS files:** \n",
    "- Partial SASS files that contain small code segments\n",
    "- Name with an underscore like partial.scss\n",
    "- A much more efficient way to organize code\n",
    "- Can be incorporated in multiple other files\n",
    "- \n",
    "Examples of **control directives** are:\n",
    "- @if, @for, and @each.\n",
    "- These allow us to create loops and conditional statements, as well as iteration.\n",
    "\n",
    "Using **modules**:\n",
    "- SASS code can be divided into multiple files @use.\n",
    "- loads a different SASS module file.\n",
    "- You can access its variables, mixins, and functions."
   ]
  },
  {
   "attachments": {},
   "cell_type": "markdown",
   "metadata": {},
   "source": [
    "[Hack Link](https://paravsalaniwal.github.io/firstrepo/2023/04/28/SASSHacks.html)"
   ]
  },
  {
   "attachments": {},
   "cell_type": "markdown",
   "metadata": {},
   "source": [
    "![Code](https://user-images.githubusercontent.com/111609656/235287972-13d35191-275a-4d02-97f0-e4145dd00cfc.png)"
   ]
  }
 ],
 "metadata": {
  "kernelspec": {
   "display_name": "base",
   "language": "python",
   "name": "python3"
  },
  "language_info": {
   "name": "python",
   "version": "3.9.12"
  },
  "orig_nbformat": 4
 },
 "nbformat": 4,
 "nbformat_minor": 2
}
