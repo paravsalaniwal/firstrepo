{
 "cells": [
  {
   "cell_type": "markdown",
   "metadata": {},
   "source": [
    "# Weather API\n",
    "\n",
    "- toc: true\n",
    "- permalink: /2022/10/17/quotes/"
   ]
  },
  {
   "cell_type": "code",
   "execution_count": 1,
   "metadata": {},
   "outputs": [
    {
     "name": "stdout",
     "output_type": "stream",
     "text": [
      "\"We are all faced with a series of great opportunities brilliantly disguised as impossible situations.\"\n",
      "-Charles R. Swindoll\n"
     ]
    }
   ],
   "source": [
    "import requests\n",
    "\n",
    "url = \"https://motivational-quotes1.p.rapidapi.com/motivation\"\n",
    "\n",
    "payload = {\n",
    "\t\"key1\": \"value\",\n",
    "\t\"key2\": \"value\"\n",
    "}\n",
    "headers = {\n",
    "\t\"content-type\": \"application/json\",\n",
    "\t\"X-RapidAPI-Key\": \"f2586bd8c7mshe64d56ce3a69011p10e170jsn51b21e88070f\",\n",
    "\t\"X-RapidAPI-Host\": \"motivational-quotes1.p.rapidapi.com\"\n",
    "}\n",
    "\n",
    "response = requests.request(\"POST\", url, json=payload, headers=headers)\n",
    "\n",
    "print(response.text)"
   ]
  }
 ],
 "metadata": {
  "kernelspec": {
   "display_name": "Python 3.9.6 64-bit",
   "language": "python",
   "name": "python3"
  },
  "language_info": {
   "codemirror_mode": {
    "name": "ipython",
    "version": 3
   },
   "file_extension": ".py",
   "mimetype": "text/x-python",
   "name": "python",
   "nbconvert_exporter": "python",
   "pygments_lexer": "ipython3",
   "version": "3.9.6"
  },
  "orig_nbformat": 4,
  "vscode": {
   "interpreter": {
    "hash": "31f2aee4e71d21fbe5cf8b01ff0e069b9275f58929596ceb00d14d90e3e16cd6"
   }
  }
 },
 "nbformat": 4,
 "nbformat_minor": 2
}
