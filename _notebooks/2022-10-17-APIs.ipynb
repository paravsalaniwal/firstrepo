{
 "cells": [
  {
   "cell_type": "markdown",
   "metadata": {},
   "source": [
    "# APIs\n",
    "\n",
    "- toc: true\n",
    "- permalink: /2022/10/17/APIs/"
   ]
  },
  {
   "cell_type": "markdown",
   "metadata": {},
   "source": [
    "## NFL API"
   ]
  },
  {
   "cell_type": "code",
   "execution_count": 3,
   "metadata": {},
   "outputs": [
    {
     "name": "stdout",
     "output_type": "stream",
     "text": [
      "Tennessee Titans at Green Bay Packers\n",
      "\n",
      "Chicago Bears at Atlanta Falcons\n",
      "\n",
      "Cleveland Browns at Buffalo Bills\n",
      "\n",
      "Philadelphia Eagles at Indianapolis Colts\n",
      "\n",
      "New York Jets at New England Patriots\n",
      "\n",
      "Los Angeles Rams at New Orleans Saints\n",
      "\n",
      "Detroit Lions at New York Giants\n",
      "\n",
      "Carolina Panthers at Baltimore Ravens\n",
      "\n",
      "Washington Commanders at Houston Texans\n",
      "\n",
      "Las Vegas Raiders at Denver Broncos\n",
      "\n",
      "Dallas Cowboys at Minnesota Vikings\n",
      "\n",
      "Cincinnati Bengals at Pittsburgh Steelers\n",
      "\n",
      "Kansas City Chiefs at Los Angeles Chargers\n",
      "\n",
      "San Francisco 49ers at Arizona Cardinals\n",
      "\n"
     ]
    }
   ],
   "source": [
    "import requests\n",
    "\n",
    "url = \"https://nfl-schedule.p.rapidapi.com/v1/schedules\"\n",
    "\n",
    "headers = {\n",
    "\t\"X-RapidAPI-Key\": \"f2586bd8c7mshe64d56ce3a69011p10e170jsn51b21e88070f\",\n",
    "\t\"X-RapidAPI-Host\": \"nfl-schedule.p.rapidapi.com\"\n",
    "}\n",
    "\n",
    "response = requests.request(\"GET\", url, headers=headers)\n",
    "\n",
    "for schedule in response.json().get('data'):\n",
    "    print(schedule['name'])\n",
    "    print()"
   ]
  },
  {
   "cell_type": "markdown",
   "metadata": {},
   "source": [
    "## Quotes API"
   ]
  },
  {
   "cell_type": "code",
   "execution_count": 1,
   "metadata": {},
   "outputs": [
    {
     "name": "stdout",
     "output_type": "stream",
     "text": [
      "\"We are all faced with a series of great opportunities brilliantly disguised as impossible situations.\"\n",
      "-Charles R. Swindoll\n"
     ]
    }
   ],
   "source": [
    "import requests\n",
    "\n",
    "url = \"https://motivational-quotes1.p.rapidapi.com/motivation\"\n",
    "\n",
    "payload = {\n",
    "\t\"key1\": \"value\",\n",
    "\t\"key2\": \"value\"\n",
    "}\n",
    "headers = {\n",
    "\t\"content-type\": \"application/json\",\n",
    "\t\"X-RapidAPI-Key\": \"f2586bd8c7mshe64d56ce3a69011p10e170jsn51b21e88070f\",\n",
    "\t\"X-RapidAPI-Host\": \"motivational-quotes1.p.rapidapi.com\"\n",
    "}\n",
    "\n",
    "response = requests.request(\"POST\", url, json=payload, headers=headers)\n",
    "\n",
    "print(response.text)"
   ]
  }
 ],
 "metadata": {
  "kernelspec": {
   "display_name": "Python 3.9.6 64-bit",
   "language": "python",
   "name": "python3"
  },
  "language_info": {
   "codemirror_mode": {
    "name": "ipython",
    "version": 3
   },
   "file_extension": ".py",
   "mimetype": "text/x-python",
   "name": "python",
   "nbconvert_exporter": "python",
   "pygments_lexer": "ipython3",
   "version": "3.9.6"
  },
  "orig_nbformat": 4,
  "vscode": {
   "interpreter": {
    "hash": "31f2aee4e71d21fbe5cf8b01ff0e069b9275f58929596ceb00d14d90e3e16cd6"
   }
  }
 },
 "nbformat": 4,
 "nbformat_minor": 2
}
